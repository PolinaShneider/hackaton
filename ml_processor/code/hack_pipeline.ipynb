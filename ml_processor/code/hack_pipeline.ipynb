{
 "cells": [
  {
   "cell_type": "markdown",
   "metadata": {
    "id": "W6TcAxtDYR1z"
   },
   "source": [
    "# Выделение терминов"
   ]
  },
  {
   "cell_type": "code",
   "execution_count": 1,
   "metadata": {
    "execution": {
     "iopub.execute_input": "2023-11-24T23:09:30.538427Z",
     "iopub.status.busy": "2023-11-24T23:09:30.537364Z",
     "iopub.status.idle": "2023-11-24T23:09:30.662579Z",
     "shell.execute_reply": "2023-11-24T23:09:30.660919Z",
     "shell.execute_reply.started": "2023-11-24T23:09:30.538360Z"
    },
    "tags": []
   },
   "outputs": [],
   "source": [
    "! export PATH=$PATH:/home/jupyter/.local/bin"
   ]
  },
  {
   "cell_type": "code",
   "execution_count": 16,
   "metadata": {
    "execution": {
     "iopub.execute_input": "2023-11-25T01:03:20.367863Z",
     "iopub.status.busy": "2023-11-25T01:03:20.367104Z",
     "iopub.status.idle": "2023-11-25T01:03:20.386426Z",
     "shell.execute_reply": "2023-11-25T01:03:20.384939Z",
     "shell.execute_reply.started": "2023-11-25T01:03:20.367809Z"
    },
    "tags": []
   },
   "outputs": [],
   "source": [
    "%pip install --upgrade requests botocore urllib3 --user"
   ]
  },
  {
   "cell_type": "code",
   "execution_count": 17,
   "metadata": {
    "colab": {
     "base_uri": "https://localhost:8080/"
    },
    "execution": {
     "iopub.execute_input": "2023-11-25T01:03:21.035605Z",
     "iopub.status.busy": "2023-11-25T01:03:21.034704Z",
     "iopub.status.idle": "2023-11-25T01:03:21.049960Z",
     "shell.execute_reply": "2023-11-25T01:03:21.048761Z",
     "shell.execute_reply.started": "2023-11-25T01:03:21.035555Z"
    },
    "id": "3p-WRhIcWELS",
    "outputId": "27bcd58e-ea46-4750-ff55-5c543f9e509c",
    "tags": []
   },
   "outputs": [],
   "source": [
    "%pip install pymorphy2"
   ]
  },
  {
   "cell_type": "code",
   "execution_count": 18,
   "metadata": {
    "execution": {
     "iopub.execute_input": "2023-11-25T01:03:23.893103Z",
     "iopub.status.busy": "2023-11-25T01:03:23.892019Z",
     "iopub.status.idle": "2023-11-25T01:03:23.907581Z",
     "shell.execute_reply": "2023-11-25T01:03:23.906534Z",
     "shell.execute_reply.started": "2023-11-25T01:03:23.893021Z"
    },
    "tags": []
   },
   "outputs": [],
   "source": [
    "%pip install git+https://github.com/openai/whisper.git"
   ]
  },
  {
   "cell_type": "code",
   "execution_count": 19,
   "metadata": {
    "execution": {
     "iopub.execute_input": "2023-11-25T01:03:25.966446Z",
     "iopub.status.busy": "2023-11-25T01:03:25.965789Z",
     "iopub.status.idle": "2023-11-25T01:03:25.979893Z",
     "shell.execute_reply": "2023-11-25T01:03:25.978885Z",
     "shell.execute_reply.started": "2023-11-25T01:03:25.966395Z"
    },
    "tags": []
   },
   "outputs": [],
   "source": [
    "%pip install peft"
   ]
  },
  {
   "cell_type": "code",
   "execution_count": 20,
   "metadata": {
    "execution": {
     "iopub.execute_input": "2023-11-25T01:03:28.118588Z",
     "iopub.status.busy": "2023-11-25T01:03:28.117582Z",
     "iopub.status.idle": "2023-11-25T01:03:28.135460Z",
     "shell.execute_reply": "2023-11-25T01:03:28.134536Z",
     "shell.execute_reply.started": "2023-11-25T01:03:28.118556Z"
    },
    "tags": []
   },
   "outputs": [],
   "source": [
    "%pip install --no-cache-dir transformers sentencepiece"
   ]
  },
  {
   "cell_type": "code",
   "execution_count": null,
   "metadata": {},
   "outputs": [],
   "source": [
    "%pip install python-docx"
   ]
  },
  {
   "cell_type": "code",
   "execution_count": 23,
   "metadata": {
    "execution": {
     "iopub.execute_input": "2023-11-25T01:12:04.277355Z",
     "iopub.status.busy": "2023-11-25T01:12:04.276628Z",
     "iopub.status.idle": "2023-11-25T01:12:05.518126Z",
     "shell.execute_reply": "2023-11-25T01:12:05.516649Z",
     "shell.execute_reply.started": "2023-11-25T01:12:04.277299Z"
    },
    "tags": []
   },
   "outputs": [],
   "source": [
    "%pip freeze > pip_freeze.txt"
   ]
  },
  {
   "cell_type": "code",
   "execution_count": 37,
   "metadata": {
    "execution": {
     "iopub.execute_input": "2023-11-25T01:16:22.636623Z",
     "iopub.status.busy": "2023-11-25T01:16:22.635800Z",
     "iopub.status.idle": "2023-11-25T01:16:22.662244Z",
     "shell.execute_reply": "2023-11-25T01:16:22.660620Z",
     "shell.execute_reply.started": "2023-11-25T01:16:22.636582Z"
    },
    "tags": []
   },
   "outputs": [
    {
     "name": "stderr",
     "output_type": "stream",
     "text": [
      "UsageError: Line magic function `%zip` not found.\n"
     ]
    }
   ],
   "source": [
    "%zip defining_utils.py"
   ]
  },
  {
   "cell_type": "code",
   "execution_count": 36,
   "metadata": {
    "execution": {
     "iopub.execute_input": "2023-11-25T01:16:17.770418Z",
     "iopub.status.busy": "2023-11-25T01:16:17.769648Z",
     "iopub.status.idle": "2023-11-25T01:16:17.794333Z",
     "shell.execute_reply": "2023-11-25T01:16:17.793235Z",
     "shell.execute_reply.started": "2023-11-25T01:16:17.770382Z"
    },
    "tags": []
   },
   "outputs": [
    {
     "name": "stdout",
     "output_type": "stream",
     "text": [
      "defining_utils.py\n",
      "main.py\n",
      "ner_utils.py\n",
      "prepare_for_docx.py\n",
      "summarization_utils.py\n",
      "transcript_utils.py\n",
      "write_docx.py\n"
     ]
    }
   ],
   "source": [
    "! ls *.py "
   ]
  },
  {
   "cell_type": "code",
   "execution_count": null,
   "metadata": {},
   "outputs": [],
   "source": []
  },
  {
   "cell_type": "code",
   "execution_count": 15,
   "metadata": {
    "execution": {
     "iopub.execute_input": "2023-11-25T00:48:51.844634Z",
     "iopub.status.busy": "2023-11-25T00:48:51.843857Z",
     "iopub.status.idle": "2023-11-25T00:59:56.307221Z",
     "shell.execute_reply": "2023-11-25T00:59:56.306115Z",
     "shell.execute_reply.started": "2023-11-25T00:48:51.844597Z"
    },
    "tags": []
   },
   "outputs": [
    {
     "name": "stdout",
     "output_type": "stream",
     "text": [
      "WHISPER IS INITIALIZED\n",
      "SAIGA IS INITIALIZED\n",
      "TRANSCRIPT IS DONE\n",
      "TERMS ARE DONE\n",
      "DEFS: ['Бизнес - это деятельность, направленная на получение прибыли путем продажи товаров или услуг. Это может быть маленький магазин, большая компания или даже интернет-проект. Бизнес может быть различных видов, например, торговый, производственный, финансовый или услуги.', 'Факторы - это различные влияющие на результат или процесс. В контексте стратегического планирования и управления бизнесом, факторы могут быть разделены на внешние (экстернальные) и внутренние (интернальные).', 'Маркетинг - это система методов и техник, используемых для изучения, планирования, разработки, продвижения и продажи товаров, услуг и идей. Маркетинговые методы включают исследование рынка, определение целевой аудитории, разработку стратегии продаж, создание бренда, разработку рекламных кампаний и многое другое.', 'Эффективность - это способность или степень того, насколько хорошо и успешно ресурсы (включая время, деньги, усилия и т.д.) используются для достижения определенной цели или задачи. Эффективность может быть оценена на разных уровнях и в разных сферах, включая бизнес, образование, управление проектами и т.д.', 'Продукт - это товар или услуга, который предлагается на рынок для потребления или использования потребителями. Продукты могут быть физическими (такими как еда, одежда, электроника) или нематериальными (такими как услуги, программное обеспечение, контент).', 'Потребитель - это человек или организация, которые покупают и используют товары или услуги для своих нужд и потребностей. Потребители могут быть разделены на различные группы в зависимости от их возраста, пола, социального статуса, образования, занятости и других характеристик.', 'рынок - это место, где происходит обмен товарами, услугами и финансовыми инструментами между потребителями и производителями. Рынок может быть физическим, например, рынок на улице, или он может быть виртуальным, например, онлайн-магазин.', 'Компания - это организация, которая занимается производством, продажей и предоставлением услуг на рынке. Она может быть малой, средней или крупной, и может работать в различных отраслях экономики. Компании обычно создаются для достижения определенных целей, таких как прибыль, рост, создание рабочих мест и т.д.', 'Команда - это группа людей, работающих вместе для достижения общей цели или задачи. Команда может состоять из разных профессий и уровней опыта, и каждый член команды может иметь свою роль и функцию в работе. Команда может быть создана для решения определенной проблемы, выполнения проекта или достижения определенной цели.', 'Airbnb - это онлайн-платформа для аренды жилья, которая позволяет пользователям арендовать и продавать жилье по всему миру. Она предоставляет возможность арендаторам найти подходящий объект для проживания, а владельцам жилья - найти потенциальных арендаторов.', 'Digital marketing - это процесс продвижения продуктов или услуг с использованием интернет-технологий, таких как веб-сайты, социальные сети, электронная почта и другие. Это позволяет компаниям достичь большего количества потенциальных клиентов, увеличить продажи и улучшить репутацию бренда.', 'клиент - это физическое или юридическое лицо, которое приобретает или использует товары или услуги от компании или организации. Клиент может быть покупателем, пользователем, абонентом или подписчиком.  \\nКлиент - это физическое или юридическое лицо, которое приобретает или использует товары или услуги от компании или организации.', 'Параметры - это значения, которые могут быть установлены для конкретной функции или процесса. Они могут быть статическими или динамическими, и их можно использовать для настройки и оптимизации работы программного обеспечения, аппаратных систем или любой другой системы.']\n",
      "SUMMARY: [['В данной части лекции рассказывается о том, что такое маркетинг, какие виды маркетинга бывают, чем они отличаются и в чем преимущество каждого из видов маркетинга. также рассматриваются классические диджетал подходы и их взаимодействие, а также эффективность проектов и продуктов.', 0, 296.0], ['Данная часть лекции рассказывает о классическом маркетинговом процессе, который состоит из 6 этапов: идея, исследование, разработка, тестирование и производство, а также дистрибуция и продвижение.', 296.0, 589.0], ['В данной части лекции рассказывается о классическом маркетинге и диджетал-маркетинге, их плюсах и минусах, а также примеры продуктов и их характеристики.', 589.0, 877.0], ['Данная часть лекции рассказывает о том, как airbnb использовал цифровой маркетинг для улучшения своего продукта и увеличения количества бронирований. также здесь рассматриваются плюсы и минусы цифрового маркетинга.', 877.0, 1160.0], ['В данной части лекции рассказывается о нестандартном маркетинге, его плюсах и минусах, а также приведены примеры его применения в рекламных кампаниях.', 1160.0, 1457.0], ['Данная часть лекции рассказывает о минусах и преимуществах диджетл-маркетинга, а также приводит примеры реальных кейсов, где диджетл-маркетинговые стратегии были успешно применены или неудачно.', 1457.0, 1751.0], ['Данная часть лекции рассказывает о том, как важно учитывать и объективные факторы, и субъективные факторы при создании продукта, а также о том, что важно всегда предполагать субъективные факторы и учитывать их при разработке продукта.', 1751.0, 2048.0], ['Данная часть лекции рассказывает о стратегических и тактических параметрах эффективности, а также о том, как их можно считать и использовать для улучшения продукта и удовлетворения потребителей.', 2048.0, 2340.0], ['Данная часть лекции рассказывает о различных аспектах эффективности бизнеса, включая объемные показатели, присутствие в каналах продаж, структуру воронки, эффективность воронки, оценку продаж, операционные параметры эффективности и операционные расходы.', 2340.0, 2640.0], ['Данная часть лекции рассказывает о стратегии, тактике и операционном менеджменте в маркетинге, а также о состоянии рынка специалистов в этой сфере.', 2640.0, 2939.0], ['В данной части лекции рассказывается о продукт-маркетологе и его роли в компании, а также о том, как продукт-маркетолог может помочь компании донести послание и ценность продукта до целевой аудитории.', 2939.0, 3234.0]]\n",
      "DATA FOR DOCX IS DONE [['В данной части лекции рассказывается о том, что такое маркетинг, какие виды маркетинга бывают, чем они отличаются и в чем преимущество каждого из видов маркетинга. также рассматриваются классические диджетал подходы и их взаимодействие, а также эффективность проектов и продуктов.', 0, 296.0], ['Данная часть лекции рассказывает о классическом маркетинговом процессе, который состоит из 6 этапов: идея, исследование, разработка, тестирование и производство, а также дистрибуция и продвижение.', 296.0, 589.0], ['В данной части лекции рассказывается о классическом маркетинге и диджетал-маркетинге, их плюсах и минусах, а также примеры продуктов и их характеристики.', 589.0, 877.0], ['Данная часть лекции рассказывает о том, как airbnb использовал цифровой маркетинг для улучшения своего продукта и увеличения количества бронирований. также здесь рассматриваются плюсы и минусы цифрового маркетинга.', 877.0, 1160.0], ['В данной части лекции рассказывается о нестандартном маркетинге, его плюсах и минусах, а также приведены примеры его применения в рекламных кампаниях.', 1160.0, 1457.0], ['Данная часть лекции рассказывает о минусах и преимуществах диджетл-маркетинга, а также приводит примеры реальных кейсов, где диджетл-маркетинговые стратегии были успешно применены или неудачно.', 1457.0, 1751.0], ['Данная часть лекции рассказывает о том, как важно учитывать и объективные факторы, и субъективные факторы при создании продукта, а также о том, что важно всегда предполагать субъективные факторы и учитывать их при разработке продукта.', 1751.0, 2048.0], ['Данная часть лекции рассказывает о стратегических и тактических параметрах эффективности, а также о том, как их можно считать и использовать для улучшения продукта и удовлетворения потребителей.', 2048.0, 2340.0], ['Данная часть лекции рассказывает о различных аспектах эффективности бизнеса, включая объемные показатели, присутствие в каналах продаж, структуру воронки, эффективность воронки, оценку продаж, операционные параметры эффективности и операционные расходы.', 2340.0, 2640.0], ['Данная часть лекции рассказывает о стратегии, тактике и операционном менеджменте в маркетинге, а также о состоянии рынка специалистов в этой сфере.', 2640.0, 2939.0], ['В данной части лекции рассказывается о продукт-маркетологе и его роли в компании, а также о том, как продукт-маркетолог может помочь компании донести послание и ценность продукта до целевой аудитории.', 2939.0, 3234.0]]\n",
      "DOSX IS SAVED. SUCCESS!!\n"
     ]
    },
    {
     "name": "stderr",
     "output_type": "stream",
     "text": [
      "[nltk_data] Downloading package stopwords to\n",
      "[nltk_data]     /home/jupyter/nltk_data...\n",
      "[nltk_data]   Package stopwords is already up-to-date!\n",
      "Special tokens have been added in the vocabulary, make sure the associated word embeddings are fine-tuned or trained.\n",
      "Loading checkpoint shards: 100%|██████████| 2/2 [00:11<00:00,  5.97s/it]\n",
      " 99%|█████████▉| 363777/366777 [05:26<00:02, 1114.42frames/s]\n"
     ]
    }
   ],
   "source": [
    "## тестим\n",
    "\n",
    "! python3 main.py"
   ]
  },
  {
   "cell_type": "code",
   "execution_count": null,
   "metadata": {},
   "outputs": [],
   "source": []
  },
  {
   "cell_type": "code",
   "execution_count": null,
   "metadata": {},
   "outputs": [],
   "source": []
  },
  {
   "cell_type": "code",
   "execution_count": null,
   "metadata": {},
   "outputs": [],
   "source": []
  },
  {
   "cell_type": "markdown",
   "metadata": {},
   "source": [
    "## Импорты"
   ]
  },
  {
   "cell_type": "code",
   "execution_count": 7,
   "metadata": {
    "execution": {
     "iopub.execute_input": "2023-11-24T22:37:47.782286Z",
     "iopub.status.busy": "2023-11-24T22:37:47.781156Z",
     "iopub.status.idle": "2023-11-24T22:38:06.695390Z",
     "shell.execute_reply": "2023-11-24T22:38:06.694311Z",
     "shell.execute_reply.started": "2023-11-24T22:37:47.782223Z"
    },
    "tags": []
   },
   "outputs": [
    {
     "name": "stderr",
     "output_type": "stream",
     "text": [
      "[nltk_data] Downloading package stopwords to\n",
      "[nltk_data]     /home/jupyter/nltk_data...\n",
      "[nltk_data]   Package stopwords is already up-to-date!\n"
     ]
    },
    {
     "data": {
      "text/plain": [
       "True"
      ]
     },
     "execution_count": 7,
     "metadata": {},
     "output_type": "execute_result"
    }
   ],
   "source": [
    "import nltk\n",
    "from nltk.corpus import stopwords\n",
    "import pymorphy2\n",
    "import re\n",
    "from collections import Counter\n",
    "import torch\n",
    "from peft import AutoPeftModelForCausalLM\n",
    "from transformers import AutoTokenizer, AutoModel\n",
    "import whisper\n",
    "\n",
    "\n",
    "nltk.download('stopwords')"
   ]
  },
  {
   "cell_type": "code",
   "execution_count": null,
   "metadata": {},
   "outputs": [],
   "source": []
  },
  {
   "cell_type": "markdown",
   "metadata": {},
   "source": [
    "## NER (rule-based) utils"
   ]
  },
  {
   "cell_type": "code",
   "execution_count": 8,
   "metadata": {
    "colab": {
     "base_uri": "https://localhost:8080/"
    },
    "execution": {
     "iopub.execute_input": "2023-11-24T22:38:06.698126Z",
     "iopub.status.busy": "2023-11-24T22:38:06.696912Z",
     "iopub.status.idle": "2023-11-24T22:38:06.732840Z",
     "shell.execute_reply": "2023-11-24T22:38:06.731635Z",
     "shell.execute_reply.started": "2023-11-24T22:38:06.698072Z"
    },
    "id": "g01xovs3jjBq",
    "outputId": "0702aad5-4bb6-44b2-d7f9-ff211b4c09cd",
    "tags": []
   },
   "outputs": [],
   "source": [
    "ADDITIONAL_STOPWORDS = [\n",
    "    'a', 'about', 'all', 'am', 'an', 'and', 'any', 'are', 'as', 'at', 'be',\n",
    "    'been', 'but', 'by', 'can', 'could', 'do', 'for', 'from', 'has', 'have',\n",
    "    'i', 'if', 'in', 'is', 'it', 'me', 'my', 'no', 'not', 'of', 'on', 'one',\n",
    "    'or', 'so', 'that', 'the', 'them', 'there', 'they', 'this', 'to', 'was',\n",
    "    'we', 'what', 'which', 'will', 'with', 'would', 'you', 'а', 'будем', 'будет',\n",
    "    'будете', 'будешь', 'буду', 'будут', 'будучи', 'будь', 'будьте', 'бы', 'был',\n",
    "    'была', 'были', 'было', 'быть', 'в', 'вам', 'вами', 'вас', 'весь', 'во', 'вот',\n",
    "    'все', 'всё', 'всего', 'всей', 'всем', 'всём', 'всеми', 'всему', 'всех', 'всею',\n",
    "    'всея', 'всю', 'вся', 'вы', 'да', 'для', 'до', 'его', 'едим', 'едят', 'ее',\n",
    "    'её', 'ей', 'ел', 'ела', 'ем', 'ему', 'емъ', 'если', 'ест', 'есть', 'ешь',\n",
    "    'еще', 'ещё', 'ею', 'же', 'за', 'и', 'из', 'или', 'им', 'ими', 'имъ', 'их',\n",
    "    'к', 'как', 'кем', 'ко', 'когда', 'кого', 'ком', 'кому', 'комья', 'которая',\n",
    "    'которого', 'которое', 'которой', 'котором', 'которому', 'которою', 'которую',\n",
    "    'которые', 'который', 'которым', 'которыми', 'которых', 'кто', 'меня', 'мне',\n",
    "    'мной', 'мною', 'мог', 'моги', 'могите', 'могла', 'могли', 'могло', 'могу',\n",
    "    'могут', 'мое', 'моё', 'моего', 'моей', 'моем', 'моём', 'моему', 'моею',\n",
    "    'можем', 'может', 'можете', 'можешь', 'мои', 'мой', 'моим', 'моими', 'моих',\n",
    "    'мочь', 'мою', 'моя', 'мы', 'на', 'нам', 'нами', 'нас', 'наса', 'наш', 'наша',\n",
    "    'наше', 'нашего', 'нашей', 'нашем', 'нашему', 'нашею', 'наши', 'нашим', 'нашими',\n",
    "    'наших', 'нашу', 'не', 'него', 'нее', 'неё', 'ней', 'нем', 'нём', 'нему', 'нет',\n",
    "    'нею', 'ним', 'ними', 'них', 'но', 'о', 'об', 'один', 'одна', 'одни', 'одним',\n",
    "    'одними', 'одних', 'одно', 'одного', 'одной', 'одном', 'одному', 'одною', 'одну',\n",
    "    'он', 'она', 'оне', 'они', 'оно', 'от', 'по', 'при', 'с', 'сам', 'сама', 'сами',\n",
    "    'самим', 'самими', 'самих', 'само', 'самого', 'самом', 'самому', 'саму', 'свое',\n",
    "    'своё', 'своего', 'своей', 'своем', 'своём', 'своему', 'своею', 'свои', 'свой',\n",
    "    'своим', 'своими', 'своих', 'свою', 'своя', 'себе', 'себя', 'собой', 'собою',\n",
    "    'та', 'так', 'такая', 'такие', 'таким', 'такими', 'таких', 'такого', 'такое',\n",
    "    'такой', 'таком', 'такому', 'такою', 'такую', 'те', 'тебе', 'тебя', 'тем',\n",
    "    'теми', 'тех', 'то', 'тобой', 'тобою', 'того', 'той', 'только', 'том', 'томах',\n",
    "    'тому', 'тот', 'тою', 'ту', 'ты', 'у', 'уже', 'чего', 'чем', 'чём', 'чему',\n",
    "    'что', 'чтобы', 'эта', 'эти', 'этим', 'этими', 'этих', 'это', 'этого', 'этой',\n",
    "    'этом', 'этому', 'этот', 'этою', 'эту', 'я', 'мені', 'наші', 'нашої', 'нашій',\n",
    "    'нашою', 'нашім', 'ті', 'тієї', 'тією', 'тії', 'теє', 'очень', 'вновь', 'казаться',\n",
    "    'nan', 'всё', 'это', 'твой', 'свой', 'весь', 'вообще',\n",
    "    'пусть', 'ещё', 'который', 'её', 'словно', 'пока',\n",
    "    'сколько', 'сквозь', 'чей', 'вокруг', 'любой', 'слишком', 'почему',\n",
    "    'среди', 'значит', 'ваш', 'тысяча', 'однажды', 'сегодня',\n",
    "    'завтра', 'вчера', 'послезавтра', 'позавчера', 'нибыть', 'точно',\n",
    "    'уметь', 'целый', 'полный', 'часть', 'делать',\n",
    "    'готовый', 'хотя', 'как', 'столько', 'равно', 'оно', 'похожий',\n",
    "    'скоро', 'разный', 'всякий', 'порой', 'часто', 'настоящий', 'вместо',\n",
    "    'вовсе', 'иметь', 'вроде', 'лишь', 'также', 'млн', 'руб',\n",
    "    'наверное', 'три', 'четыре', 'пять', 'шесть', 'семь', 'восемь',\n",
    "    'девять', 'десять', 'пускай', 'мимо', 'частый', 'сей', 'привет',\n",
    "    'наверно', 'туда', 'иль', 'возможно', 'вено', 'иной', 'едва',\n",
    "    'поэтому', 'впереди', 'зря', 'вообще', 'меж', 'мол', 'нету', 'наш',\n",
    "    'иначе', 'всякий', 'ради', 'оттого', 'нечего', 'скорее',\n",
    "    'пред', 'сначала', 'вряд', 'случайно', 'коль', 'многий', 'кроме',\n",
    "    'откуда', 'нынче', 'ибо', 'порою', 'вне', 'кой', 'еле', 'разом',\n",
    "    'либо', 'зато', 'сорок', 'везде', 'таков', 'вон', 'покуда',\n",
    "    'затем', 'особенно', 'несмотря', 'сотый', 'всюду',\n",
    "    'возле', 'кстати', 'прям', 'ныне', 'бай', 'предельно',\n",
    "    'чрез', 'некий', 'впредь', 'практически', 'лишь', 'каждый',\n",
    "    'день', 'год', 'мочь', 'коли', 'найти', 'нужно', 'снова',\n",
    "]\n",
    "\n",
    "EDUCATIONAL_STOPWORDS = [\n",
    "    \"друг\", \"коллега\", \"блок\", \"лекция\", \"семинар\", \"вебинар\", \"урок\", \"курс\",\n",
    "    \"модуль\", \"тренинг\", \"практикум\", \"мастер-класс\", \"туториал\", \"студент\",\n",
    "    \"преподаватель\", \"лектор\", \"учитель\", \"обучающийся\",\n",
    "    \"группа\", \"класс\", \"аудитория\", \"куратор\", \"задание\", \"проект\",\n",
    "    \"домашний\", \"работа\", \"экзамен\", \"тест\", \"оценка\", \"дедлайн\", \"кредит\",\n",
    "    \"аттестация\", \"сертификация\", \"учебный\", \"план\", \"образовательная\",\n",
    "    \"программа\", \"академическая степень\", \"научное\", \"исследование\", \"материал\",\n",
    "    \"методические указания\", \"учебник\", \"литература\", \"конспект\", \"основы\",\n",
    "    \"понимание\", \"случай\", \"идея\", \"задание\", \"тема\", \"первый\", \"второй\",\n",
    "    \"практика\", \"чиселка\", \"лайфхак\", \"понятие\", \"плюсик\", \"профессия\"\n",
    "]\n",
    "\n",
    "GARBAGE = [\n",
    "    \"внимание\", \"штука\", \"текст\", \"текст\", \"страничка\", \"color\", \"центр\",\n",
    "    \"доллар\", \"стиль\", \"отступ\", \"файл\", \"экран\", \"пример\", \"hello\", \"значение\",\n",
    "    \"этап\"\n",
    "]\n",
    "\n",
    "gb_stopwords = stopwords.words('russian') + stopwords.words('english') + ADDITIONAL_STOPWORDS + EDUCATIONAL_STOPWORDS + GARBAGE"
   ]
  },
  {
   "cell_type": "code",
   "execution_count": 9,
   "metadata": {
    "execution": {
     "iopub.execute_input": "2023-11-24T22:38:06.738344Z",
     "iopub.status.busy": "2023-11-24T22:38:06.737177Z",
     "iopub.status.idle": "2023-11-24T22:38:07.043986Z",
     "shell.execute_reply": "2023-11-24T22:38:07.042910Z",
     "shell.execute_reply.started": "2023-11-24T22:38:06.738282Z"
    },
    "id": "i3Yx9z5vHqE6",
    "tags": []
   },
   "outputs": [],
   "source": [
    "morph = pymorphy2.MorphAnalyzer()\n",
    "\n",
    "# правило — последовательность слов (список) с их частями речи и падежами\n",
    "morph_rules = [\n",
    "    [{\"POS\": \"NOUN\", \"case\": [\"nomn\", \"accs\"]}],\n",
    "    [{\"POS\": \"ADJF\", \"case\": [\"nomn\", \"accs\"]}, {\"POS\": \"NOUN\", \"case\": [\"nomn\", \"accs\"]}],\n",
    "    [{\"POS\": \"NOUN\", \"case\": [\"nomn\", \"accs\"]}, {\"POS\": \"NOUN\", \"case\": [\"gent\"]}],\n",
    "    [{\"POS\": \"NOUN\", \"case\": [\"nomn\", \"accs\"]}, {\"POS\": \"ADJF\", \"case\": [\"gent\"]}, {\"POS\": \"NOUN\", \"case\": [\"gent\"]}],\n",
    "    [{\"POS\": \"ADJF\", \"case\": [\"nomn\", \"accs\"]}, {\"POS\": \"ADJF\", \"case\": [\"nomn\", \"accs\"]}, {\"POS\": \"NOUN\", \"case\": [\"nomn\", \"accs\"]}],\n",
    "    [{\"POS\": \"ADJF\", \"case\": [\"nomn\", \"accs\"]}, {\"POS\": \"NOUN\", \"case\": [\"nomn\", \"accs\"]}, {\"POS\": \"NOUN\", \"case\": [\"gent\"]}]\n",
    "]\n",
    "\n",
    "english_rule = re.compile(\"[A-Za-z\\d-]{3,}(?:\\s+[A-Za-z\\d-]{3,})*\")\n",
    "\n",
    "def match_morph_rule(text, rule):\n",
    "    result = False\n",
    "    words = text.split()\n",
    "    if len(words) != len(rule):\n",
    "        return False\n",
    "    flag = False\n",
    "    for word, rule_part in zip(words, rule):\n",
    "        parsed = morph.parse(word)[0]\n",
    "        if parsed.tag.POS != rule_part[\"POS\"]:\n",
    "            flag = True\n",
    "        if parsed.tag.case not in rule_part[\"case\"]:\n",
    "            flag = True\n",
    "    if not flag:\n",
    "        result = True\n",
    "    return result\n",
    "\n",
    "def exclude_stopwords(tokens):\n",
    "    return [word for word in tokens if word.lower() not in gb_stopwords]"
   ]
  },
  {
   "cell_type": "code",
   "execution_count": 10,
   "metadata": {
    "execution": {
     "iopub.execute_input": "2023-11-24T22:38:07.047074Z",
     "iopub.status.busy": "2023-11-24T22:38:07.046097Z",
     "iopub.status.idle": "2023-11-24T22:38:07.065207Z",
     "shell.execute_reply": "2023-11-24T22:38:07.063834Z",
     "shell.execute_reply.started": "2023-11-24T22:38:07.047021Z"
    },
    "id": "je4iqNRh4mAI",
    "tags": []
   },
   "outputs": [],
   "source": [
    "def preprocess(text, lowercase=True):\n",
    "    text = text.replace(\"\\n\", \"\")\n",
    "    text = re.sub(r\"( - |- )\", r\" \", text)\n",
    "    text = re.sub(r\"\\b(\\w+)( \\1\\b)+\", r\"\\1\", text)\n",
    "    text = re.sub(r\"([0-9]+).([0-9]+)\", \"\", text)\n",
    "    text = re.sub(r\"([0-9]+).(\\s+)\", \"\", text)\n",
    "    text = re.sub(r\"[:\\.,»«)(\\n\\t–]\", \". \", text)\n",
    "    text = re.sub(r\"([а-яa-zё]+)([А-ЯA-ZЁ]+)\", r\"\\1. \\2\", text)\n",
    "    text = re.sub(r\"([0-9]+)(\\s+)([0-9]+)\", \"\", text)\n",
    "    text = re.sub(r\"\\.(\\s+)([a-zA-Zа-яА-ЯёЁ0-9\\-])\", lambda x: x.group(0).upper(), text)\n",
    "    text = text.replace(\"\\xa0\", \" \")\n",
    "    text = text.replace(\".\", \". \").strip()\n",
    "    if lowercase:\n",
    "        return re.findall(r'\\b\\w+\\b', text.lower())\n",
    "    return re.findall(r'\\b\\w+\\b', text)\n",
    "\n",
    "def find_english_terms(text):\n",
    "    return list(english_rule.findall(text))\n",
    "\n",
    "def find_morph_terms(text, stopwords=False):\n",
    "    terms = []\n",
    "    tokens = preprocess(text)\n",
    "    if stopwords:\n",
    "        tokens = exclude_stopwords(tokens)\n",
    "\n",
    "    for i in range(len(tokens)):\n",
    "        eng_result = find_english_terms(' '.join(tokens[i:i+3]))\n",
    "        if eng_result:\n",
    "            terms.extend(eng_result)\n",
    "        for rule in morph_rules:\n",
    "            phrase = ' '.join(tokens[i:i+len(rule)])\n",
    "            if match_morph_rule(phrase, rule):\n",
    "                terms.append(phrase)\n",
    "\n",
    "    return terms"
   ]
  },
  {
   "cell_type": "code",
   "execution_count": 11,
   "metadata": {
    "execution": {
     "iopub.execute_input": "2023-11-24T22:38:07.068124Z",
     "iopub.status.busy": "2023-11-24T22:38:07.066968Z",
     "iopub.status.idle": "2023-11-24T22:38:07.088082Z",
     "shell.execute_reply": "2023-11-24T22:38:07.086842Z",
     "shell.execute_reply.started": "2023-11-24T22:38:07.068073Z"
    },
    "id": "MY-1LBnno-jH",
    "tags": []
   },
   "outputs": [],
   "source": [
    "# strong: если хотя бы один из токенов термина — стопслово, то удаляем термин\n",
    "# иначе удаляем только токен, оставляем остаток термина\n",
    "def filter_terms(terms, strong=False):\n",
    "    filtered_terms = []\n",
    "\n",
    "    for term in terms:\n",
    "        words = term.split()\n",
    "        normalized_words = [morph.parse(word)[0].normal_form for word in words]\n",
    "        if strong:\n",
    "            if not any(word in gb_stopwords for word in normalized_words):\n",
    "                filtered_terms.append(term)\n",
    "        else:\n",
    "            result = ' '.join([words[i] for i in range(len(words)) if normalized_words[i] not in gb_stopwords])\n",
    "            if result != \"\":\n",
    "                filtered_terms.append(result)\n",
    "\n",
    "    return filtered_terms\n",
    "\n",
    "def get_terms_candidates(text, strong=False):\n",
    "    terms = find_morph_terms(text)\n",
    "\n",
    "    return filter_terms(list(terms), strong=strong)"
   ]
  },
  {
   "cell_type": "code",
   "execution_count": 12,
   "metadata": {
    "execution": {
     "iopub.execute_input": "2023-11-24T22:38:07.091141Z",
     "iopub.status.busy": "2023-11-24T22:38:07.089816Z",
     "iopub.status.idle": "2023-11-24T22:38:07.109514Z",
     "shell.execute_reply": "2023-11-24T22:38:07.108134Z",
     "shell.execute_reply.started": "2023-11-24T22:38:07.091077Z"
    },
    "id": "HbaHVgogFLli",
    "tags": []
   },
   "outputs": [],
   "source": [
    "def normalize_terms(words):\n",
    "    return [morph.parse(word)[0].normal_form for word in words]\n",
    "\n",
    "def normalize_frequencies(frequencies):\n",
    "    max_freq = max(frequencies.values())\n",
    "    return {term: freq / max_freq for term, freq in frequencies.items()}\n",
    "\n",
    "def filter_terms_by_frequency(terms, threshold=0.15):\n",
    "    term_frequencies = Counter(terms)\n",
    "    normalized_frequencies = normalize_frequencies(term_frequencies)\n",
    "    filtered_terms = {term: freq for term, freq in normalized_frequencies.items() if freq >= threshold}\n",
    "    return filtered_terms\n",
    "\n",
    "def finalize_terms(terms, filtered_terms):\n",
    "    return [term for term in terms if term in filtered_terms.keys()]"
   ]
  },
  {
   "cell_type": "markdown",
   "metadata": {
    "id": "KJUA6SHbVePI"
   },
   "source": [
    "## Whisper + DEVICE"
   ]
  },
  {
   "cell_type": "code",
   "execution_count": 13,
   "metadata": {
    "colab": {
     "base_uri": "https://localhost:8080/"
    },
    "execution": {
     "iopub.execute_input": "2023-11-24T22:38:07.112809Z",
     "iopub.status.busy": "2023-11-24T22:38:07.111111Z",
     "iopub.status.idle": "2023-11-24T22:38:34.022868Z",
     "shell.execute_reply": "2023-11-24T22:38:34.021795Z",
     "shell.execute_reply.started": "2023-11-24T22:38:07.112747Z"
    },
    "id": "2ql79aqkWIsX",
    "outputId": "28282bca-911c-476d-febc-07755bbb658a",
    "tags": []
   },
   "outputs": [
    {
     "name": "stderr",
     "output_type": "stream",
     "text": [
      "100%|███████████████████████████████████████| 461M/461M [00:10<00:00, 45.5MiB/s]\n"
     ]
    },
    {
     "data": {
      "text/plain": [
       "Whisper(\n",
       "  (encoder): AudioEncoder(\n",
       "    (conv1): Conv1d(80, 768, kernel_size=(3,), stride=(1,), padding=(1,))\n",
       "    (conv2): Conv1d(768, 768, kernel_size=(3,), stride=(2,), padding=(1,))\n",
       "    (blocks): ModuleList(\n",
       "      (0-11): 12 x ResidualAttentionBlock(\n",
       "        (attn): MultiHeadAttention(\n",
       "          (query): Linear(in_features=768, out_features=768, bias=True)\n",
       "          (key): Linear(in_features=768, out_features=768, bias=False)\n",
       "          (value): Linear(in_features=768, out_features=768, bias=True)\n",
       "          (out): Linear(in_features=768, out_features=768, bias=True)\n",
       "        )\n",
       "        (attn_ln): LayerNorm((768,), eps=1e-05, elementwise_affine=True)\n",
       "        (mlp): Sequential(\n",
       "          (0): Linear(in_features=768, out_features=3072, bias=True)\n",
       "          (1): GELU(approximate='none')\n",
       "          (2): Linear(in_features=3072, out_features=768, bias=True)\n",
       "        )\n",
       "        (mlp_ln): LayerNorm((768,), eps=1e-05, elementwise_affine=True)\n",
       "      )\n",
       "    )\n",
       "    (ln_post): LayerNorm((768,), eps=1e-05, elementwise_affine=True)\n",
       "  )\n",
       "  (decoder): TextDecoder(\n",
       "    (token_embedding): Embedding(51865, 768)\n",
       "    (blocks): ModuleList(\n",
       "      (0-11): 12 x ResidualAttentionBlock(\n",
       "        (attn): MultiHeadAttention(\n",
       "          (query): Linear(in_features=768, out_features=768, bias=True)\n",
       "          (key): Linear(in_features=768, out_features=768, bias=False)\n",
       "          (value): Linear(in_features=768, out_features=768, bias=True)\n",
       "          (out): Linear(in_features=768, out_features=768, bias=True)\n",
       "        )\n",
       "        (attn_ln): LayerNorm((768,), eps=1e-05, elementwise_affine=True)\n",
       "        (cross_attn): MultiHeadAttention(\n",
       "          (query): Linear(in_features=768, out_features=768, bias=True)\n",
       "          (key): Linear(in_features=768, out_features=768, bias=False)\n",
       "          (value): Linear(in_features=768, out_features=768, bias=True)\n",
       "          (out): Linear(in_features=768, out_features=768, bias=True)\n",
       "        )\n",
       "        (cross_attn_ln): LayerNorm((768,), eps=1e-05, elementwise_affine=True)\n",
       "        (mlp): Sequential(\n",
       "          (0): Linear(in_features=768, out_features=3072, bias=True)\n",
       "          (1): GELU(approximate='none')\n",
       "          (2): Linear(in_features=3072, out_features=768, bias=True)\n",
       "        )\n",
       "        (mlp_ln): LayerNorm((768,), eps=1e-05, elementwise_affine=True)\n",
       "      )\n",
       "    )\n",
       "    (ln): LayerNorm((768,), eps=1e-05, elementwise_affine=True)\n",
       "  )\n",
       ")"
      ]
     },
     "execution_count": 13,
     "metadata": {},
     "output_type": "execute_result"
    }
   ],
   "source": [
    "# init whisper\n",
    "model_size = \"small\"\n",
    "\n",
    "# define device\n",
    "DEVICE = 'cuda' if torch.cuda.is_available() else 'cpu'\n",
    "\n",
    "# load model\n",
    "whisper_model = whisper.load_model(model_size)\n",
    "whisper_model.to(DEVICE)"
   ]
  },
  {
   "cell_type": "code",
   "execution_count": 14,
   "metadata": {
    "execution": {
     "iopub.execute_input": "2023-11-24T22:38:34.025079Z",
     "iopub.status.busy": "2023-11-24T22:38:34.024108Z",
     "iopub.status.idle": "2023-11-24T22:38:34.039711Z",
     "shell.execute_reply": "2023-11-24T22:38:34.038402Z",
     "shell.execute_reply.started": "2023-11-24T22:38:34.025022Z"
    },
    "tags": []
   },
   "outputs": [
    {
     "data": {
      "text/plain": [
       "'cuda'"
      ]
     },
     "execution_count": 14,
     "metadata": {},
     "output_type": "execute_result"
    }
   ],
   "source": [
    "DEVICE"
   ]
  },
  {
   "cell_type": "code",
   "execution_count": 15,
   "metadata": {
    "execution": {
     "iopub.execute_input": "2023-11-24T22:38:34.041903Z",
     "iopub.status.busy": "2023-11-24T22:38:34.041268Z",
     "iopub.status.idle": "2023-11-24T22:38:34.057034Z",
     "shell.execute_reply": "2023-11-24T22:38:34.055938Z",
     "shell.execute_reply.started": "2023-11-24T22:38:34.041850Z"
    },
    "id": "NTDZ6GfDWijo",
    "tags": []
   },
   "outputs": [],
   "source": [
    "def whisper_transcribe_file(model, path_to_mp3_file):\n",
    "    transcription = model.transcribe(path_to_mp3_file, language=\"ru\", verbose=False)\n",
    "\n",
    "    return transcription"
   ]
  },
  {
   "cell_type": "code",
   "execution_count": 16,
   "metadata": {
    "execution": {
     "iopub.execute_input": "2023-11-24T22:38:34.059666Z",
     "iopub.status.busy": "2023-11-24T22:38:34.058543Z",
     "iopub.status.idle": "2023-11-24T22:38:34.075124Z",
     "shell.execute_reply": "2023-11-24T22:38:34.074033Z",
     "shell.execute_reply.started": "2023-11-24T22:38:34.059627Z"
    },
    "id": "NO_2xUc_XS4q",
    "tags": []
   },
   "outputs": [],
   "source": [
    "# path_to_mp3 = 'drive/MyDrive/ИТМО/Хак/audio2.mp3'\n",
    "# transcript = whisper_transcribe_file(model, path_to_mp3)\n",
    "\n",
    "# lecture_text = transcript['text']\n",
    "\n",
    "# terms = get_terms_candidates(lecture_text, strong=True)\n",
    "# cleared_terms = filter_terms_by_frequency(terms)\n",
    "# final_terms = finalize_terms(terms, cleared_terms)\n",
    "# final_terms_unique = cleared_terms.keys()"
   ]
  },
  {
   "cell_type": "code",
   "execution_count": 17,
   "metadata": {
    "execution": {
     "iopub.execute_input": "2023-11-24T22:38:34.077607Z",
     "iopub.status.busy": "2023-11-24T22:38:34.076534Z",
     "iopub.status.idle": "2023-11-24T22:38:34.091199Z",
     "shell.execute_reply": "2023-11-24T22:38:34.090071Z",
     "shell.execute_reply.started": "2023-11-24T22:38:34.077536Z"
    },
    "id": "_MUr_5QGZBa-",
    "tags": []
   },
   "outputs": [],
   "source": [
    "def extract_timecodes_and_context(transcript, terms):\n",
    "    segments = transcript['segments']\n",
    "    timecodes = dict()\n",
    "    context = dict()\n",
    "\n",
    "    for term in terms:\n",
    "        timecodes[term] = [(segment[\"start\"], segment[\"end\"]) for segment in segments if term in segment['text'].strip().lower()]\n",
    "        context[term] = [segment[\"text\"] for segment in segments if term in segment['text'].strip().lower()]\n",
    "\n",
    "    return timecodes, context"
   ]
  },
  {
   "cell_type": "code",
   "execution_count": 18,
   "metadata": {
    "execution": {
     "iopub.execute_input": "2023-11-24T22:38:34.092996Z",
     "iopub.status.busy": "2023-11-24T22:38:34.092398Z",
     "iopub.status.idle": "2023-11-24T22:38:34.107044Z",
     "shell.execute_reply": "2023-11-24T22:38:34.105861Z",
     "shell.execute_reply.started": "2023-11-24T22:38:34.092951Z"
    },
    "id": "-qSE6mTKbV1T",
    "tags": []
   },
   "outputs": [],
   "source": [
    "# timecodes, context = extract_timecodes_and_context(transcript, final_terms_unique)"
   ]
  },
  {
   "cell_type": "markdown",
   "metadata": {
    "id": "VC0iLce0uzRn"
   },
   "source": [
    "# Генерация определений"
   ]
  },
  {
   "cell_type": "code",
   "execution_count": 19,
   "metadata": {
    "execution": {
     "iopub.execute_input": "2023-11-24T22:38:34.109487Z",
     "iopub.status.busy": "2023-11-24T22:38:34.108482Z",
     "iopub.status.idle": "2023-11-24T22:42:57.570445Z",
     "shell.execute_reply": "2023-11-24T22:42:57.569049Z",
     "shell.execute_reply.started": "2023-11-24T22:38:34.109427Z"
    },
    "id": "Yin_czuQzsAm",
    "tags": []
   },
   "outputs": [
    {
     "data": {
      "application/vnd.jupyter.widget-view+json": {
       "model_id": "a3e541fbb2ac4ece916fc28bab8cea7e",
       "version_major": 2,
       "version_minor": 0
      },
      "text/plain": [
       "tokenizer_config.json:   0%|          | 0.00/1.69k [00:00<?, ?B/s]"
      ]
     },
     "metadata": {},
     "output_type": "display_data"
    },
    {
     "data": {
      "application/vnd.jupyter.widget-view+json": {
       "model_id": "dc6a5a5695a147c598d5031d7633b11a",
       "version_major": 2,
       "version_minor": 0
      },
      "text/plain": [
       "tokenizer.model:   0%|          | 0.00/493k [00:00<?, ?B/s]"
      ]
     },
     "metadata": {},
     "output_type": "display_data"
    },
    {
     "data": {
      "application/vnd.jupyter.widget-view+json": {
       "model_id": "775eb7e75e474505aa93e933ab287792",
       "version_major": 2,
       "version_minor": 0
      },
      "text/plain": [
       "added_tokens.json:   0%|          | 0.00/90.0 [00:00<?, ?B/s]"
      ]
     },
     "metadata": {},
     "output_type": "display_data"
    },
    {
     "data": {
      "application/vnd.jupyter.widget-view+json": {
       "model_id": "200e17211c8a40b5bea9763f52c84533",
       "version_major": 2,
       "version_minor": 0
      },
      "text/plain": [
       "special_tokens_map.json:   0%|          | 0.00/101 [00:00<?, ?B/s]"
      ]
     },
     "metadata": {},
     "output_type": "display_data"
    },
    {
     "name": "stderr",
     "output_type": "stream",
     "text": [
      "Special tokens have been added in the vocabulary, make sure the associated word embeddings are fine-tuned or trained.\n"
     ]
    },
    {
     "data": {
      "application/vnd.jupyter.widget-view+json": {
       "model_id": "59c1fe6cc47445829e75126f1da52796",
       "version_major": 2,
       "version_minor": 0
      },
      "text/plain": [
       "adapter_config.json:   0%|          | 0.00/480 [00:00<?, ?B/s]"
      ]
     },
     "metadata": {},
     "output_type": "display_data"
    },
    {
     "data": {
      "application/vnd.jupyter.widget-view+json": {
       "model_id": "952826e76fb54c76b195ffbc02de033d",
       "version_major": 2,
       "version_minor": 0
      },
      "text/plain": [
       "config.json:   0%|          | 0.00/623 [00:00<?, ?B/s]"
      ]
     },
     "metadata": {},
     "output_type": "display_data"
    },
    {
     "data": {
      "application/vnd.jupyter.widget-view+json": {
       "model_id": "9911199c00b7493fb3dd21b16e3dd84a",
       "version_major": 2,
       "version_minor": 0
      },
      "text/plain": [
       "pytorch_model.bin.index.json:   0%|          | 0.00/23.9k [00:00<?, ?B/s]"
      ]
     },
     "metadata": {},
     "output_type": "display_data"
    },
    {
     "data": {
      "application/vnd.jupyter.widget-view+json": {
       "model_id": "e0a5e5e5b672486290d98d51840ff5fa",
       "version_major": 2,
       "version_minor": 0
      },
      "text/plain": [
       "Downloading shards:   0%|          | 0/2 [00:00<?, ?it/s]"
      ]
     },
     "metadata": {},
     "output_type": "display_data"
    },
    {
     "data": {
      "application/vnd.jupyter.widget-view+json": {
       "model_id": "a91fcd2cce3d4c4982bde1f129b59146",
       "version_major": 2,
       "version_minor": 0
      },
      "text/plain": [
       "pytorch_model-00001-of-00002.bin:   0%|          | 0.00/9.94G [00:00<?, ?B/s]"
      ]
     },
     "metadata": {},
     "output_type": "display_data"
    },
    {
     "data": {
      "application/vnd.jupyter.widget-view+json": {
       "model_id": "c2a5c979f2a047b2b5c9137559ca8753",
       "version_major": 2,
       "version_minor": 0
      },
      "text/plain": [
       "pytorch_model-00002-of-00002.bin:   0%|          | 0.00/4.54G [00:00<?, ?B/s]"
      ]
     },
     "metadata": {},
     "output_type": "display_data"
    },
    {
     "data": {
      "application/vnd.jupyter.widget-view+json": {
       "model_id": "0e101209c342499bbc958bb95e1215d3",
       "version_major": 2,
       "version_minor": 0
      },
      "text/plain": [
       "Loading checkpoint shards:   0%|          | 0/2 [00:00<?, ?it/s]"
      ]
     },
     "metadata": {},
     "output_type": "display_data"
    },
    {
     "data": {
      "application/vnd.jupyter.widget-view+json": {
       "model_id": "fe4ee3407ad84123a80e0691898937f7",
       "version_major": 2,
       "version_minor": 0
      },
      "text/plain": [
       "generation_config.json:   0%|          | 0.00/120 [00:00<?, ?B/s]"
      ]
     },
     "metadata": {},
     "output_type": "display_data"
    },
    {
     "data": {
      "application/vnd.jupyter.widget-view+json": {
       "model_id": "bc2236c9cbcc45d7adea7f5f2467d0de",
       "version_major": 2,
       "version_minor": 0
      },
      "text/plain": [
       "adapter_model.safetensors:   0%|          | 0.00/54.6M [00:00<?, ?B/s]"
      ]
     },
     "metadata": {},
     "output_type": "display_data"
    }
   ],
   "source": [
    "adapt_model_name = \"IlyaGusev/saiga_mistral_7b_lora\"\n",
    "base_model_name = \"Open-Orca/Mistral-7B-OpenOrca\"\n",
    "\n",
    "tokenizer = AutoTokenizer.from_pretrained(\n",
    "              base_model_name,\n",
    "              trust_remote_code=True,\n",
    "              use_fast=False)\n",
    "\n",
    "tokenizer.pad_token = tokenizer.eos_token\n",
    "device_map = {\"\": DEVICE}\n",
    "\n",
    "model = AutoPeftModelForCausalLM.from_pretrained(\n",
    "              adapt_model_name,\n",
    "              device_map=device_map,\n",
    "              torch_dtype=torch.bfloat16)"
   ]
  },
  {
   "cell_type": "code",
   "execution_count": 20,
   "metadata": {
    "execution": {
     "iopub.execute_input": "2023-11-24T22:42:57.572936Z",
     "iopub.status.busy": "2023-11-24T22:42:57.571887Z",
     "iopub.status.idle": "2023-11-24T22:42:57.607252Z",
     "shell.execute_reply": "2023-11-24T22:42:57.606159Z",
     "shell.execute_reply.started": "2023-11-24T22:42:57.572882Z"
    },
    "tags": []
   },
   "outputs": [
    {
     "data": {
      "text/plain": [
       "device(type='cuda', index=0)"
      ]
     },
     "execution_count": 20,
     "metadata": {},
     "output_type": "execute_result"
    }
   ],
   "source": [
    "model.device"
   ]
  },
  {
   "cell_type": "code",
   "execution_count": null,
   "metadata": {},
   "outputs": [],
   "source": []
  },
  {
   "cell_type": "code",
   "execution_count": null,
   "metadata": {},
   "outputs": [],
   "source": []
  },
  {
   "cell_type": "code",
   "execution_count": 21,
   "metadata": {
    "execution": {
     "iopub.execute_input": "2023-11-24T22:42:57.609873Z",
     "iopub.status.busy": "2023-11-24T22:42:57.608821Z",
     "iopub.status.idle": "2023-11-24T22:42:57.643798Z",
     "shell.execute_reply": "2023-11-24T22:42:57.642550Z",
     "shell.execute_reply.started": "2023-11-24T22:42:57.609820Z"
    },
    "id": "FpXJmn5mxSEO",
    "tags": []
   },
   "outputs": [],
   "source": [
    "def get_answer(model, tokenizer, prompt, DEVICE):\n",
    "    inputs = tokenizer(prompt, return_tensors=\"pt\").to(DEVICE)\n",
    "    outputs = model.generate(input_ids=inputs[\"input_ids\"].to(DEVICE),\n",
    "                            top_p=0.5,\n",
    "                            temperature=0.3,\n",
    "                            attention_mask=inputs[\"attention_mask\"],\n",
    "                            max_new_tokens=128,\n",
    "                            pad_token_id=tokenizer.eos_token_id,\n",
    "                            do_sample=True)\n",
    "\n",
    "    output = tokenizer.decode(outputs[0], skip_special_tokens=True)\n",
    "\n",
    "    parsed_answer = output.split(\"Вот ответ на ваш вопрос:\")[1].strip()\n",
    "\n",
    "    if \"bot:\" in parsed_answer:\n",
    "        parsed_answer = parsed_answer.split(\"bot:\")[0].strip()\n",
    "\n",
    "\n",
    "    if not parsed_answer.endswith('.'):\n",
    "        parsed_answer_sentences = parsed_answer.split('.')\n",
    "        parsed_answer = '.'.join(parsed_answer_sentences[:-1]) + '.'\n",
    "\n",
    "\n",
    "    parsed_answer = parsed_answer.replace('</s>', '')\n",
    "    parsed_answer = parsed_answer.replace('bot', '')\n",
    "\n",
    "    return parsed_answer"
   ]
  },
  {
   "cell_type": "code",
   "execution_count": 22,
   "metadata": {
    "execution": {
     "iopub.execute_input": "2023-11-24T22:42:57.646481Z",
     "iopub.status.busy": "2023-11-24T22:42:57.645506Z",
     "iopub.status.idle": "2023-11-24T22:42:57.668094Z",
     "shell.execute_reply": "2023-11-24T22:42:57.666910Z",
     "shell.execute_reply.started": "2023-11-24T22:42:57.646424Z"
    },
    "id": "NEa25ymlxfKF",
    "tags": []
   },
   "outputs": [],
   "source": [
    "rag_prompt = '''<s>system\n",
    "Ты — Сайга, русскоязычный автоматический ассистент. Ты разговариваешь с людьми и помогаешь им.</s>\n",
    "<s>user\n",
    "Текст: {}\n",
    "Вопрос: что такое {}?</s>\n",
    "<s>bot\n",
    "Вот ответ на ваш вопрос:'''"
   ]
  },
  {
   "cell_type": "code",
   "execution_count": 23,
   "metadata": {
    "execution": {
     "iopub.execute_input": "2023-11-24T22:42:57.669999Z",
     "iopub.status.busy": "2023-11-24T22:42:57.669375Z",
     "iopub.status.idle": "2023-11-24T22:42:57.682788Z",
     "shell.execute_reply": "2023-11-24T22:42:57.681730Z",
     "shell.execute_reply.started": "2023-11-24T22:42:57.669941Z"
    },
    "id": "jFe7jR1Rxfqx",
    "tags": []
   },
   "outputs": [],
   "source": [
    "def get_rag_context(term_fragments, CONTEXT_WORDS_THRESH=50):\n",
    "    context = \"\"\n",
    "\n",
    "    for fragment in term_fragments:\n",
    "        if len(context.split(' ')) + len(fragment.split(' ')) < CONTEXT_WORDS_THRESH:\n",
    "            context += fragment\n",
    "\n",
    "    context = context.strip()\n",
    "\n",
    "    return context"
   ]
  },
  {
   "cell_type": "code",
   "execution_count": 24,
   "metadata": {
    "execution": {
     "iopub.execute_input": "2023-11-24T22:42:57.689557Z",
     "iopub.status.busy": "2023-11-24T22:42:57.688786Z",
     "iopub.status.idle": "2023-11-24T22:42:57.713747Z",
     "shell.execute_reply": "2023-11-24T22:42:57.712512Z",
     "shell.execute_reply.started": "2023-11-24T22:42:57.689521Z"
    },
    "id": "TUolY3XAxhoX",
    "tags": []
   },
   "outputs": [],
   "source": [
    "def get_rag_prompts(terms_and_context_dict):\n",
    "    rag_prompts = []\n",
    "\n",
    "    for term_to_define, term_fragments in terms_and_context_dict.items():\n",
    "        term_context = get_rag_context(term_fragments)\n",
    "        prompt = rag_prompt.format(term_context, term_to_define)\n",
    "\n",
    "        rag_prompts.append(prompt)\n",
    "\n",
    "    return rag_prompts"
   ]
  },
  {
   "cell_type": "code",
   "execution_count": null,
   "metadata": {},
   "outputs": [],
   "source": []
  },
  {
   "cell_type": "markdown",
   "metadata": {},
   "source": [
    "## Пайплайн:\n",
    "\n",
    "1. Транскрибируем аудио\n",
    "\n",
    "2. Выделение терминов\n",
    "\n",
    "3. Из первого словаря делает submission файл\n",
    "\n",
    "4. Из второго словаря генерируем определения\n",
    "\n",
    "5. (?) Делаем суммаризацию по фрагментам, в которых встречались термины"
   ]
  },
  {
   "cell_type": "code",
   "execution_count": 25,
   "metadata": {
    "execution": {
     "iopub.execute_input": "2023-11-24T22:42:57.717006Z",
     "iopub.status.busy": "2023-11-24T22:42:57.716181Z",
     "iopub.status.idle": "2023-11-24T22:42:57.742699Z",
     "shell.execute_reply": "2023-11-24T22:42:57.741618Z",
     "shell.execute_reply.started": "2023-11-24T22:42:57.716955Z"
    },
    "tags": []
   },
   "outputs": [],
   "source": [
    "paths = [\n",
    "    \"/home/jupyter/datasphere/project/audio5.mp3\",\n",
    "    \"/home/jupyter/datasphere/project/audio6.mp3\"\n",
    "]"
   ]
  },
  {
   "cell_type": "code",
   "execution_count": null,
   "metadata": {},
   "outputs": [],
   "source": []
  },
  {
   "cell_type": "code",
   "execution_count": null,
   "metadata": {
    "execution": {
     "iopub.execute_input": "2023-11-24T22:42:57.744516Z",
     "iopub.status.busy": "2023-11-24T22:42:57.743917Z"
    },
    "tags": []
   },
   "outputs": [
    {
     "name": "stderr",
     "output_type": "stream",
     "text": [
      " 59%|█████▊    | 229000/390421 [04:40<02:55, 917.30frames/s] "
     ]
    }
   ],
   "source": [
    "transcript = whisper_transcribe_file(whisper_model, paths[0])"
   ]
  },
  {
   "cell_type": "code",
   "execution_count": null,
   "metadata": {
    "tags": []
   },
   "outputs": [],
   "source": [
    "lecture_text = transcript['text']"
   ]
  },
  {
   "cell_type": "code",
   "execution_count": null,
   "metadata": {
    "tags": []
   },
   "outputs": [],
   "source": [
    "terms = get_terms_candidates(lecture_text, strong=True)\n",
    "cleared_terms = filter_terms_by_frequency(terms)\n",
    "final_terms = finalize_terms(terms, cleared_terms)\n",
    "final_terms_unique = cleared_terms.keys()"
   ]
  },
  {
   "cell_type": "code",
   "execution_count": null,
   "metadata": {
    "tags": []
   },
   "outputs": [],
   "source": [
    "timecodes, context = extract_timecodes_and_context(transcript, final_terms_unique)"
   ]
  },
  {
   "cell_type": "code",
   "execution_count": null,
   "metadata": {
    "tags": []
   },
   "outputs": [],
   "source": [
    "definitions = []\n",
    "\n",
    "for prompt in get_rag_prompts(context):\n",
    "    definitions.append(get_answer(model, tokenizer, prompt, DEVICE))"
   ]
  },
  {
   "cell_type": "code",
   "execution_count": null,
   "metadata": {
    "tags": []
   },
   "outputs": [],
   "source": [
    "# timecodes"
   ]
  },
  {
   "cell_type": "code",
   "execution_count": null,
   "metadata": {
    "tags": []
   },
   "outputs": [],
   "source": [
    "# context"
   ]
  },
  {
   "cell_type": "code",
   "execution_count": null,
   "metadata": {
    "tags": []
   },
   "outputs": [],
   "source": [
    "# definitions"
   ]
  },
  {
   "cell_type": "code",
   "execution_count": null,
   "metadata": {
    "tags": []
   },
   "outputs": [],
   "source": [
    "# ! python3 transcript_utils.py"
   ]
  },
  {
   "cell_type": "code",
   "execution_count": null,
   "metadata": {
    "tags": []
   },
   "outputs": [],
   "source": [
    "term_definition_timecodestart_timecodeend = []\n",
    "\n",
    "for i, para in enumerate(timecodes.items()):\n",
    "    term, term_timecodes = para\n",
    "    definition = definitions[i]\n",
    "    for term_timecode in term_timecodes:\n",
    "        term_definition_timecodestart_timecodeend.append((paths[0].split('/')[-1], term, definition, term_timecode[0], term_timecode[1]))"
   ]
  },
  {
   "cell_type": "code",
   "execution_count": null,
   "metadata": {
    "tags": []
   },
   "outputs": [],
   "source": [
    "import pandas as pd\n",
    "\n",
    "overall_df = pd.DataFrame(term_definition_timecodestart_timecodeend, columns=['File', 'Term', 'Definition', 'Time_start', 'Time_end'])"
   ]
  },
  {
   "cell_type": "code",
   "execution_count": null,
   "metadata": {
    "tags": []
   },
   "outputs": [],
   "source": [
    "our_cringe_df = overall_df.drop_duplicates(subset=['File', 'Term']) \n",
    "our_cringe_df"
   ]
  },
  {
   "cell_type": "code",
   "execution_count": null,
   "metadata": {
    "tags": []
   },
   "outputs": [],
   "source": [
    "f_t_d_s_e = list(our_cringe_df.to_records(index=False))"
   ]
  },
  {
   "cell_type": "code",
   "execution_count": null,
   "metadata": {
    "tags": []
   },
   "outputs": [],
   "source": [
    "from datetime import timedelta\n",
    "\n",
    "def convert_float_to_hh_mm_ss(seconds_float):\n",
    "    delta = timedelta(seconds=seconds_float)\n",
    "    hours, remainder = divmod(delta.seconds, 3600)\n",
    "    minutes, seconds = divmod(remainder, 60)\n",
    "    \n",
    "    return f\"{hours:02}:{minutes:02}:{seconds:02}\""
   ]
  },
  {
   "cell_type": "code",
   "execution_count": null,
   "metadata": {
    "tags": []
   },
   "outputs": [],
   "source": [
    "csv_file_term = overall_df[['File', 'Term']].drop_duplicates()\n",
    "csv_file_term.head()"
   ]
  },
  {
   "cell_type": "code",
   "execution_count": null,
   "metadata": {
    "tags": []
   },
   "outputs": [],
   "source": [
    "csv_file_term_timecode = overall_df[['File', 'Term', 'Time_start', 'Time_end']].drop_duplicates()\n",
    "csv_file_term_timecode['Time_start'] = csv_file_term_timecode['Time_start'].apply(convert_float_to_hh_mm_ss)\n",
    "csv_file_term_timecode['Time_end'] = csv_file_term_timecode['Time_end'].apply(convert_float_to_hh_mm_ss)\n",
    "csv_file_term_timecode['Time'] = csv_file_term_timecode['Time_start'] + ' - ' + csv_file_term_timecode['Time_end']\n",
    "csv_file_term_timecode.drop(columns=['Time_start', 'Time_end'], inplace=True)\n",
    "csv_file_term_timecode.head()"
   ]
  },
  {
   "cell_type": "code",
   "execution_count": null,
   "metadata": {},
   "outputs": [],
   "source": []
  },
  {
   "cell_type": "markdown",
   "metadata": {},
   "source": [
    "## Для суммаризации"
   ]
  },
  {
   "cell_type": "code",
   "execution_count": null,
   "metadata": {
    "tags": []
   },
   "outputs": [],
   "source": [
    "def create_5mins_batches(segments, batch_time_s=300):\n",
    "    batch_and_start = []\n",
    "    \n",
    "    cur_time = 0 \n",
    "    cur_start = 0\n",
    "    cur_batch = \"\"\n",
    "    \n",
    "    for segment in segments:\n",
    "        seg_text = segment['text']\n",
    "        seg_start = segment['start']\n",
    "        seg_fin = segment['end']\n",
    "        \n",
    "        seg_time = seg_fin - seg_start\n",
    "        if cur_time + seg_time <= batch_time_s:\n",
    "            cur_batch += seg_text\n",
    "            cur_time += seg_time\n",
    "        \n",
    "        else:\n",
    "            batch_and_start.append(tuple([cur_batch.strip(), cur_start, cur_start + cur_time]))\n",
    "            cur_start += cur_time \n",
    "            cur_time = 0\n",
    "            cur_batch = \"\"\n",
    "            \n",
    "    if cur_batch != \"\":\n",
    "        batch_and_start.append(tuple([cur_batch.strip(), cur_start, cur_start + cur_time]))\n",
    "            \n",
    "    return batch_and_start\n",
    "            "
   ]
  },
  {
   "cell_type": "code",
   "execution_count": null,
   "metadata": {
    "tags": []
   },
   "outputs": [],
   "source": [
    "batches = create_5mins_batches(transcript['segments'])"
   ]
  },
  {
   "cell_type": "code",
   "execution_count": null,
   "metadata": {
    "tags": []
   },
   "outputs": [],
   "source": [
    "# batches"
   ]
  },
  {
   "cell_type": "code",
   "execution_count": null,
   "metadata": {
    "tags": []
   },
   "outputs": [],
   "source": [
    "summary_prompt = ''' \n",
    "    <s>system \n",
    "    Ты — русскоязычный автоматический ассистент. Ты разговариваешь с людьми и помогаешь им извлекать нужную информацию из текста.</s> \n",
    "    <s>user \n",
    "    Текст: {} \n",
    "    Вопрос: о чем рассказывается в данной части лекции? Какие темы рассмотрены? Ответь одним предложением.</s> \n",
    "    <s>bot \n",
    "    Вот ответ на ваш вопрос:'''"
   ]
  },
  {
   "cell_type": "code",
   "execution_count": null,
   "metadata": {
    "tags": []
   },
   "outputs": [],
   "source": [
    "summary_list = []\n",
    "\n",
    "for batch in batches:\n",
    "    batch_text, batch_start, batch_end = batch[0], batch[1], batch[2]\n",
    "    batch_prompt = summary_prompt.format(batch_text)\n",
    "    batch_summary = get_answer(model, tokenizer, batch_prompt, DEVICE)\n",
    "    \n",
    "    # пост-обработка\n",
    "    batch_summary = batch_summary.split('\\n')[0].capitalize()\n",
    "    \n",
    "    summary_list.append([batch_summary, batch_start, batch_end])"
   ]
  },
  {
   "cell_type": "code",
   "execution_count": null,
   "metadata": {
    "tags": []
   },
   "outputs": [],
   "source": [
    "len(summary_list)"
   ]
  },
  {
   "cell_type": "code",
   "execution_count": null,
   "metadata": {},
   "outputs": [],
   "source": []
  },
  {
   "cell_type": "markdown",
   "metadata": {},
   "source": [
    "## Сводим воедино для docx"
   ]
  },
  {
   "cell_type": "code",
   "execution_count": null,
   "metadata": {
    "tags": []
   },
   "outputs": [],
   "source": [
    "%pip install python-docx"
   ]
  },
  {
   "cell_type": "code",
   "execution_count": null,
   "metadata": {
    "tags": []
   },
   "outputs": [],
   "source": [
    "from docx import Document\n",
    "from docx.shared import Pt\n",
    "from docx.enum.text import WD_PARAGRAPH_ALIGNMENT\n",
    "\n",
    "from datetime import timedelta"
   ]
  },
  {
   "cell_type": "code",
   "execution_count": null,
   "metadata": {
    "tags": []
   },
   "outputs": [],
   "source": [
    "# это что за ужас?\n",
    "\n",
    "overall_list_of_tuples = [(None, None, summary[0], summary[1], summary[2]) for summary in summary_list] + f_t_d_s_e"
   ]
  },
  {
   "cell_type": "code",
   "execution_count": null,
   "metadata": {
    "tags": []
   },
   "outputs": [],
   "source": [
    "overall_list_of_tuples = sorted(overall_list_of_tuples, key=lambda tup: float(tup[3]))"
   ]
  },
  {
   "cell_type": "code",
   "execution_count": null,
   "metadata": {
    "tags": []
   },
   "outputs": [],
   "source": [
    "list_items_for_docx = []\n",
    "\n",
    "for item in overall_list_of_tuples:\n",
    "    if not item[0]:\n",
    "        # почему-то без норм предобработки\n",
    "        summary = item[2].split('\\n')[0].capitalize()\n",
    "        list_items_for_docx.append(summary)\n",
    "    else:\n",
    "        list_items_for_docx.append(item)"
   ]
  },
  {
   "cell_type": "code",
   "execution_count": null,
   "metadata": {
    "tags": []
   },
   "outputs": [],
   "source": [
    "list_items_for_docx[0]"
   ]
  },
  {
   "cell_type": "code",
   "execution_count": null,
   "metadata": {
    "tags": []
   },
   "outputs": [],
   "source": [
    "def convert_to_hh_mm_ss(time_float):\n",
    "    # Convert time in float format to hh:mm:ss string\n",
    "    total_seconds = int(time_float)\n",
    "    hours, remainder = divmod(total_seconds, 3600)\n",
    "    minutes, seconds = divmod(remainder, 60)\n",
    "\n",
    "    return f\"{hours:02}:{minutes:02}:{seconds:02}\"\n",
    "\n",
    "# не добавили тамйкоды для саммари\n",
    "# отступы странные\n",
    "def create_docx_from_list(data):\n",
    "    doc = Document()\n",
    "\n",
    "    title = doc.add_heading(\"Конспект лекции\\n\", level=1)\n",
    "    title.alignment = WD_PARAGRAPH_ALIGNMENT.CENTER\n",
    "\n",
    "    bullet_list = doc.add_paragraph()\n",
    "    term_counter = 1\n",
    "\n",
    "    for item in data:\n",
    "        if isinstance(item, str):\n",
    "            # Add a string as regular text with an interval\n",
    "            if item.endswith('.'):\n",
    "                item = item[:-1]\n",
    "                \n",
    "            item = item.split('\\n')[0].capitalize()\n",
    "\n",
    "            bullet_list.add_run(f\"{item}. Основные термины:\\n\\n\")\n",
    "        else:\n",
    "            # skip filename\n",
    "            _, term, definition, timestart, timeend = item\n",
    "            term = term.capitalize()\n",
    "            definition = definition.capitalize()\n",
    "            timestart_str = convert_to_hh_mm_ss(timestart)\n",
    "            timeend_str = convert_to_hh_mm_ss(timeend)\n",
    "            \n",
    "            # Add an element to the bullet list with formatted content\n",
    "            bullet_list.add_run(f\"{term_counter}. {term} \").bold = True\n",
    "            bullet_list.add_run(f\"({timestart_str} - {timeend_str})\\n{definition}\").bold = False\n",
    "\n",
    "            term_counter += 1\n",
    "\n",
    "            bullet_list.add_run(\"\\n\\n\")  # Add a line break\n",
    "\n",
    "    return doc\n"
   ]
  },
  {
   "cell_type": "code",
   "execution_count": null,
   "metadata": {
    "tags": []
   },
   "outputs": [],
   "source": [
    "lecture_save_path = \"lecture_final_run.docx\"\n",
    "\n",
    "doc = create_docx_from_list(list_items_for_docx)\n",
    "doc.save(lecture_save_path)"
   ]
  },
  {
   "cell_type": "code",
   "execution_count": null,
   "metadata": {},
   "outputs": [],
   "source": []
  },
  {
   "cell_type": "code",
   "execution_count": null,
   "metadata": {},
   "outputs": [],
   "source": []
  },
  {
   "cell_type": "code",
   "execution_count": null,
   "metadata": {},
   "outputs": [],
   "source": []
  },
  {
   "cell_type": "code",
   "execution_count": null,
   "metadata": {},
   "outputs": [],
   "source": []
  },
  {
   "cell_type": "code",
   "execution_count": null,
   "metadata": {},
   "outputs": [],
   "source": []
  },
  {
   "cell_type": "code",
   "execution_count": null,
   "metadata": {},
   "outputs": [],
   "source": []
  },
  {
   "cell_type": "code",
   "execution_count": 25,
   "metadata": {
    "execution": {
     "iopub.execute_input": "2023-11-24T19:33:56.481016Z",
     "iopub.status.busy": "2023-11-24T19:33:56.480203Z",
     "iopub.status.idle": "2023-11-24T19:33:56.490911Z",
     "shell.execute_reply": "2023-11-24T19:33:56.490178Z",
     "shell.execute_reply.started": "2023-11-24T19:33:56.480986Z"
    },
    "tags": []
   },
   "outputs": [],
   "source": [
    "def hack_pipeline(path):\n",
    "    definitions = []\n",
    "    \n",
    "    transcript = whisper_transcribe_file(whisper_model, path_to_mp3)\n",
    "    lecture_text = transcript['text']\n",
    "\n",
    "    terms = get_terms_candidates(lecture_text, strong=True)\n",
    "    cleared_terms = filter_terms_by_frequency(terms)\n",
    "    final_terms = finalize_terms(terms, cleared_terms)\n",
    "    final_terms_unique = cleared_terms.keys()\n",
    "\n",
    "    timecodes, context = extract_timecodes_and_context(transcript, final_terms_unique)\n",
    "    for prompt in get_rag_prompts(context):\n",
    "        definitions.append(get_answer(model, tokenizer, prompt, DEVICE))\n",
    "        \n",
    "    return definitions"
   ]
  },
  {
   "cell_type": "code",
   "execution_count": 255,
   "metadata": {
    "execution": {
     "iopub.execute_input": "2023-11-24T21:43:42.355340Z",
     "iopub.status.busy": "2023-11-24T21:43:42.354346Z",
     "iopub.status.idle": "2023-11-24T21:43:42.365127Z",
     "shell.execute_reply": "2023-11-24T21:43:42.364361Z",
     "shell.execute_reply.started": "2023-11-24T21:43:42.355287Z"
    },
    "tags": []
   },
   "outputs": [],
   "source": [
    "for path in paths:\n",
    "    print(hack_pipeline(path))"
   ]
  },
  {
   "cell_type": "code",
   "execution_count": 44,
   "metadata": {
    "execution": {
     "iopub.execute_input": "2023-11-24T17:03:19.137547Z",
     "iopub.status.busy": "2023-11-24T17:03:19.136857Z",
     "iopub.status.idle": "2023-11-24T17:03:19.299647Z",
     "shell.execute_reply": "2023-11-24T17:03:19.298555Z",
     "shell.execute_reply.started": "2023-11-24T17:03:19.137512Z"
    }
   },
   "outputs": [
    {
     "name": "stdout",
     "output_type": "stream",
     "text": [
      "Fri Nov 24 17:03:19 2023       \n",
      "+-----------------------------------------------------------------------------+\n",
      "| NVIDIA-SMI 525.147.05   Driver Version: 525.147.05   CUDA Version: 12.0     |\n",
      "|-------------------------------+----------------------+----------------------+\n",
      "| GPU  Name        Persistence-M| Bus-Id        Disp.A | Volatile Uncorr. ECC |\n",
      "| Fan  Temp  Perf  Pwr:Usage/Cap|         Memory-Usage | GPU-Util  Compute M. |\n",
      "|                               |                      |               MIG M. |\n",
      "|===============================+======================+======================|\n",
      "|   0  Tesla V100-PCIE...  On   | 00000000:8C:00.0 Off |                  Off |\n",
      "| N/A   33C    P0    38W / 250W |  19500MiB / 32768MiB |      0%      Default |\n",
      "|                               |                      |                  N/A |\n",
      "+-------------------------------+----------------------+----------------------+\n",
      "                                                                               \n",
      "+-----------------------------------------------------------------------------+\n",
      "| Processes:                                                                  |\n",
      "|  GPU   GI   CI        PID   Type   Process name                  GPU Memory |\n",
      "|        ID   ID                                                   Usage      |\n",
      "|=============================================================================|\n",
      "|    0   N/A  N/A       889      G   /usr/lib/xorg/Xorg                  4MiB |\n",
      "|    0   N/A  N/A      1941      C   python3                         19492MiB |\n",
      "+-----------------------------------------------------------------------------+\n"
     ]
    }
   ],
   "source": [
    "! nvidia-smi"
   ]
  },
  {
   "cell_type": "code",
   "execution_count": null,
   "metadata": {},
   "outputs": [],
   "source": []
  }
 ],
 "metadata": {
  "colab": {
   "provenance": []
  },
  "kernelspec": {
   "display_name": "DataSphere Kernel",
   "language": "python",
   "name": "python3"
  },
  "language_info": {
   "codemirror_mode": {
    "name": "ipython",
    "version": 3
   },
   "file_extension": ".py",
   "mimetype": "text/x-python",
   "name": "python",
   "nbconvert_exporter": "python",
   "pygments_lexer": "ipython3",
   "version": "3.7.7"
  },
  "widgets": {
   "application/vnd.jupyter.widget-state+json": {
    "01cafcca0a3947b19486908da507579e": {
     "model_module": "@jupyter-widgets/base",
     "model_module_version": "1.2.0",
     "model_name": "LayoutModel",
     "state": {
      "_model_module": "@jupyter-widgets/base",
      "_model_module_version": "1.2.0",
      "_model_name": "LayoutModel",
      "_view_count": null,
      "_view_module": "@jupyter-widgets/base",
      "_view_module_version": "1.2.0",
      "_view_name": "LayoutView",
      "align_content": null,
      "align_items": null,
      "align_self": null,
      "border": null,
      "bottom": null,
      "display": null,
      "flex": null,
      "flex_flow": null,
      "grid_area": null,
      "grid_auto_columns": null,
      "grid_auto_flow": null,
      "grid_auto_rows": null,
      "grid_column": null,
      "grid_gap": null,
      "grid_row": null,
      "grid_template_areas": null,
      "grid_template_columns": null,
      "grid_template_rows": null,
      "height": null,
      "justify_content": null,
      "justify_items": null,
      "left": null,
      "margin": null,
      "max_height": null,
      "max_width": null,
      "min_height": null,
      "min_width": null,
      "object_fit": null,
      "object_position": null,
      "order": null,
      "overflow": null,
      "overflow_x": null,
      "overflow_y": null,
      "padding": null,
      "right": null,
      "top": null,
      "visibility": null,
      "width": null
     }
    },
    "0645b7f47c3646c08b09907e4f9fe916": {
     "model_module": "@jupyter-widgets/base",
     "model_module_version": "1.2.0",
     "model_name": "LayoutModel",
     "state": {
      "_model_module": "@jupyter-widgets/base",
      "_model_module_version": "1.2.0",
      "_model_name": "LayoutModel",
      "_view_count": null,
      "_view_module": "@jupyter-widgets/base",
      "_view_module_version": "1.2.0",
      "_view_name": "LayoutView",
      "align_content": null,
      "align_items": null,
      "align_self": null,
      "border": null,
      "bottom": null,
      "display": null,
      "flex": null,
      "flex_flow": null,
      "grid_area": null,
      "grid_auto_columns": null,
      "grid_auto_flow": null,
      "grid_auto_rows": null,
      "grid_column": null,
      "grid_gap": null,
      "grid_row": null,
      "grid_template_areas": null,
      "grid_template_columns": null,
      "grid_template_rows": null,
      "height": null,
      "justify_content": null,
      "justify_items": null,
      "left": null,
      "margin": null,
      "max_height": null,
      "max_width": null,
      "min_height": null,
      "min_width": null,
      "object_fit": null,
      "object_position": null,
      "order": null,
      "overflow": null,
      "overflow_x": null,
      "overflow_y": null,
      "padding": null,
      "right": null,
      "top": null,
      "visibility": null,
      "width": null
     }
    },
    "07ea71d520f644f2b930754c4da0b3ea": {
     "model_module": "@jupyter-widgets/controls",
     "model_module_version": "1.5.0",
     "model_name": "HTMLModel",
     "state": {
      "_dom_classes": [],
      "_model_module": "@jupyter-widgets/controls",
      "_model_module_version": "1.5.0",
      "_model_name": "HTMLModel",
      "_view_count": null,
      "_view_module": "@jupyter-widgets/controls",
      "_view_module_version": "1.5.0",
      "_view_name": "HTMLView",
      "description": "",
      "description_tooltip": null,
      "layout": "IPY_MODEL_9b44e8bc95cb40729aca70aa26352b26",
      "placeholder": "​",
      "style": "IPY_MODEL_5db53ee5193346f4830c5f39808cac44",
      "value": " 120/120 [00:00&lt;00:00, 5.74kB/s]"
     }
    },
    "0ff056444bc34a308dd6953ffd320bdf": {
     "model_module": "@jupyter-widgets/base",
     "model_module_version": "1.2.0",
     "model_name": "LayoutModel",
     "state": {
      "_model_module": "@jupyter-widgets/base",
      "_model_module_version": "1.2.0",
      "_model_name": "LayoutModel",
      "_view_count": null,
      "_view_module": "@jupyter-widgets/base",
      "_view_module_version": "1.2.0",
      "_view_name": "LayoutView",
      "align_content": null,
      "align_items": null,
      "align_self": null,
      "border": null,
      "bottom": null,
      "display": null,
      "flex": null,
      "flex_flow": null,
      "grid_area": null,
      "grid_auto_columns": null,
      "grid_auto_flow": null,
      "grid_auto_rows": null,
      "grid_column": null,
      "grid_gap": null,
      "grid_row": null,
      "grid_template_areas": null,
      "grid_template_columns": null,
      "grid_template_rows": null,
      "height": null,
      "justify_content": null,
      "justify_items": null,
      "left": null,
      "margin": null,
      "max_height": null,
      "max_width": null,
      "min_height": null,
      "min_width": null,
      "object_fit": null,
      "object_position": null,
      "order": null,
      "overflow": null,
      "overflow_x": null,
      "overflow_y": null,
      "padding": null,
      "right": null,
      "top": null,
      "visibility": null,
      "width": null
     }
    },
    "105e059654234136ad7a519beb821c26": {
     "model_module": "@jupyter-widgets/controls",
     "model_module_version": "1.5.0",
     "model_name": "DescriptionStyleModel",
     "state": {
      "_model_module": "@jupyter-widgets/controls",
      "_model_module_version": "1.5.0",
      "_model_name": "DescriptionStyleModel",
      "_view_count": null,
      "_view_module": "@jupyter-widgets/base",
      "_view_module_version": "1.2.0",
      "_view_name": "StyleView",
      "description_width": ""
     }
    },
    "15766c4685494e2da5f87afa07c5be7c": {
     "model_module": "@jupyter-widgets/controls",
     "model_module_version": "1.5.0",
     "model_name": "HBoxModel",
     "state": {
      "_dom_classes": [],
      "_model_module": "@jupyter-widgets/controls",
      "_model_module_version": "1.5.0",
      "_model_name": "HBoxModel",
      "_view_count": null,
      "_view_module": "@jupyter-widgets/controls",
      "_view_module_version": "1.5.0",
      "_view_name": "HBoxView",
      "box_style": "",
      "children": [
       "IPY_MODEL_99531b296ccf4898a681985c269fd2b1",
       "IPY_MODEL_e0b76bba91ad42be9d36dac76fb1494a",
       "IPY_MODEL_07ea71d520f644f2b930754c4da0b3ea"
      ],
      "layout": "IPY_MODEL_29496704a8d8400897d1738fb1699493"
     }
    },
    "22f89907ba57468194250cbadde6ae27": {
     "model_module": "@jupyter-widgets/controls",
     "model_module_version": "1.5.0",
     "model_name": "HTMLModel",
     "state": {
      "_dom_classes": [],
      "_model_module": "@jupyter-widgets/controls",
      "_model_module_version": "1.5.0",
      "_model_name": "HTMLModel",
      "_view_count": null,
      "_view_module": "@jupyter-widgets/controls",
      "_view_module_version": "1.5.0",
      "_view_name": "HTMLView",
      "description": "",
      "description_tooltip": null,
      "layout": "IPY_MODEL_9d1330433583443d8f79d7e0a1427a46",
      "placeholder": "​",
      "style": "IPY_MODEL_d002c6b996e94d31acb7f31601afcb0e",
      "value": "adapter_model.safetensors: 100%"
     }
    },
    "25c0bc73a3144d51bc8dc155437a03b9": {
     "model_module": "@jupyter-widgets/base",
     "model_module_version": "1.2.0",
     "model_name": "LayoutModel",
     "state": {
      "_model_module": "@jupyter-widgets/base",
      "_model_module_version": "1.2.0",
      "_model_name": "LayoutModel",
      "_view_count": null,
      "_view_module": "@jupyter-widgets/base",
      "_view_module_version": "1.2.0",
      "_view_name": "LayoutView",
      "align_content": null,
      "align_items": null,
      "align_self": null,
      "border": null,
      "bottom": null,
      "display": null,
      "flex": null,
      "flex_flow": null,
      "grid_area": null,
      "grid_auto_columns": null,
      "grid_auto_flow": null,
      "grid_auto_rows": null,
      "grid_column": null,
      "grid_gap": null,
      "grid_row": null,
      "grid_template_areas": null,
      "grid_template_columns": null,
      "grid_template_rows": null,
      "height": null,
      "justify_content": null,
      "justify_items": null,
      "left": null,
      "margin": null,
      "max_height": null,
      "max_width": null,
      "min_height": null,
      "min_width": null,
      "object_fit": null,
      "object_position": null,
      "order": null,
      "overflow": null,
      "overflow_x": null,
      "overflow_y": null,
      "padding": null,
      "right": null,
      "top": null,
      "visibility": null,
      "width": null
     }
    },
    "27beef5574924876abc863290b6fa70f": {
     "model_module": "@jupyter-widgets/controls",
     "model_module_version": "1.5.0",
     "model_name": "DescriptionStyleModel",
     "state": {
      "_model_module": "@jupyter-widgets/controls",
      "_model_module_version": "1.5.0",
      "_model_name": "DescriptionStyleModel",
      "_view_count": null,
      "_view_module": "@jupyter-widgets/base",
      "_view_module_version": "1.2.0",
      "_view_name": "StyleView",
      "description_width": ""
     }
    },
    "29496704a8d8400897d1738fb1699493": {
     "model_module": "@jupyter-widgets/base",
     "model_module_version": "1.2.0",
     "model_name": "LayoutModel",
     "state": {
      "_model_module": "@jupyter-widgets/base",
      "_model_module_version": "1.2.0",
      "_model_name": "LayoutModel",
      "_view_count": null,
      "_view_module": "@jupyter-widgets/base",
      "_view_module_version": "1.2.0",
      "_view_name": "LayoutView",
      "align_content": null,
      "align_items": null,
      "align_self": null,
      "border": null,
      "bottom": null,
      "display": null,
      "flex": null,
      "flex_flow": null,
      "grid_area": null,
      "grid_auto_columns": null,
      "grid_auto_flow": null,
      "grid_auto_rows": null,
      "grid_column": null,
      "grid_gap": null,
      "grid_row": null,
      "grid_template_areas": null,
      "grid_template_columns": null,
      "grid_template_rows": null,
      "height": null,
      "justify_content": null,
      "justify_items": null,
      "left": null,
      "margin": null,
      "max_height": null,
      "max_width": null,
      "min_height": null,
      "min_width": null,
      "object_fit": null,
      "object_position": null,
      "order": null,
      "overflow": null,
      "overflow_x": null,
      "overflow_y": null,
      "padding": null,
      "right": null,
      "top": null,
      "visibility": null,
      "width": null
     }
    },
    "2b9f331412654c7a8478d0ad63fc29cd": {
     "model_module": "@jupyter-widgets/controls",
     "model_module_version": "1.5.0",
     "model_name": "HBoxModel",
     "state": {
      "_dom_classes": [],
      "_model_module": "@jupyter-widgets/controls",
      "_model_module_version": "1.5.0",
      "_model_name": "HBoxModel",
      "_view_count": null,
      "_view_module": "@jupyter-widgets/controls",
      "_view_module_version": "1.5.0",
      "_view_name": "HBoxView",
      "box_style": "",
      "children": [
       "IPY_MODEL_22f89907ba57468194250cbadde6ae27",
       "IPY_MODEL_dd391bb72ba243309db912846f196bec",
       "IPY_MODEL_d94f6589ef0e497196dea33069a42a04"
      ],
      "layout": "IPY_MODEL_0ff056444bc34a308dd6953ffd320bdf"
     }
    },
    "3e66f23cc6734be4ba1513c466bfbb18": {
     "model_module": "@jupyter-widgets/base",
     "model_module_version": "1.2.0",
     "model_name": "LayoutModel",
     "state": {
      "_model_module": "@jupyter-widgets/base",
      "_model_module_version": "1.2.0",
      "_model_name": "LayoutModel",
      "_view_count": null,
      "_view_module": "@jupyter-widgets/base",
      "_view_module_version": "1.2.0",
      "_view_name": "LayoutView",
      "align_content": null,
      "align_items": null,
      "align_self": null,
      "border": null,
      "bottom": null,
      "display": null,
      "flex": null,
      "flex_flow": null,
      "grid_area": null,
      "grid_auto_columns": null,
      "grid_auto_flow": null,
      "grid_auto_rows": null,
      "grid_column": null,
      "grid_gap": null,
      "grid_row": null,
      "grid_template_areas": null,
      "grid_template_columns": null,
      "grid_template_rows": null,
      "height": null,
      "justify_content": null,
      "justify_items": null,
      "left": null,
      "margin": null,
      "max_height": null,
      "max_width": null,
      "min_height": null,
      "min_width": null,
      "object_fit": null,
      "object_position": null,
      "order": null,
      "overflow": null,
      "overflow_x": null,
      "overflow_y": null,
      "padding": null,
      "right": null,
      "top": null,
      "visibility": null,
      "width": null
     }
    },
    "4aae6129ecc54d5f834c897d850ae1a5": {
     "model_module": "@jupyter-widgets/controls",
     "model_module_version": "1.5.0",
     "model_name": "HTMLModel",
     "state": {
      "_dom_classes": [],
      "_model_module": "@jupyter-widgets/controls",
      "_model_module_version": "1.5.0",
      "_model_name": "HTMLModel",
      "_view_count": null,
      "_view_module": "@jupyter-widgets/controls",
      "_view_module_version": "1.5.0",
      "_view_name": "HTMLView",
      "description": "",
      "description_tooltip": null,
      "layout": "IPY_MODEL_0645b7f47c3646c08b09907e4f9fe916",
      "placeholder": "​",
      "style": "IPY_MODEL_105e059654234136ad7a519beb821c26",
      "value": "Loading checkpoint shards: 100%"
     }
    },
    "5db53ee5193346f4830c5f39808cac44": {
     "model_module": "@jupyter-widgets/controls",
     "model_module_version": "1.5.0",
     "model_name": "DescriptionStyleModel",
     "state": {
      "_model_module": "@jupyter-widgets/controls",
      "_model_module_version": "1.5.0",
      "_model_name": "DescriptionStyleModel",
      "_view_count": null,
      "_view_module": "@jupyter-widgets/base",
      "_view_module_version": "1.2.0",
      "_view_name": "StyleView",
      "description_width": ""
     }
    },
    "6e7179fd03fd45ac8556f9ebbd218d1f": {
     "model_module": "@jupyter-widgets/controls",
     "model_module_version": "1.5.0",
     "model_name": "FloatProgressModel",
     "state": {
      "_dom_classes": [],
      "_model_module": "@jupyter-widgets/controls",
      "_model_module_version": "1.5.0",
      "_model_name": "FloatProgressModel",
      "_view_count": null,
      "_view_module": "@jupyter-widgets/controls",
      "_view_module_version": "1.5.0",
      "_view_name": "ProgressView",
      "bar_style": "success",
      "description": "",
      "description_tooltip": null,
      "layout": "IPY_MODEL_3e66f23cc6734be4ba1513c466bfbb18",
      "max": 2,
      "min": 0,
      "orientation": "horizontal",
      "style": "IPY_MODEL_a697dfb0a9e547b6b41aaec30bea6e5f",
      "value": 2
     }
    },
    "7248766bb694476398d8db2ffe4dcda4": {
     "model_module": "@jupyter-widgets/controls",
     "model_module_version": "1.5.0",
     "model_name": "ProgressStyleModel",
     "state": {
      "_model_module": "@jupyter-widgets/controls",
      "_model_module_version": "1.5.0",
      "_model_name": "ProgressStyleModel",
      "_view_count": null,
      "_view_module": "@jupyter-widgets/base",
      "_view_module_version": "1.2.0",
      "_view_name": "StyleView",
      "bar_color": null,
      "description_width": ""
     }
    },
    "87f857e5e16445f399f7c37463bdf33a": {
     "model_module": "@jupyter-widgets/base",
     "model_module_version": "1.2.0",
     "model_name": "LayoutModel",
     "state": {
      "_model_module": "@jupyter-widgets/base",
      "_model_module_version": "1.2.0",
      "_model_name": "LayoutModel",
      "_view_count": null,
      "_view_module": "@jupyter-widgets/base",
      "_view_module_version": "1.2.0",
      "_view_name": "LayoutView",
      "align_content": null,
      "align_items": null,
      "align_self": null,
      "border": null,
      "bottom": null,
      "display": null,
      "flex": null,
      "flex_flow": null,
      "grid_area": null,
      "grid_auto_columns": null,
      "grid_auto_flow": null,
      "grid_auto_rows": null,
      "grid_column": null,
      "grid_gap": null,
      "grid_row": null,
      "grid_template_areas": null,
      "grid_template_columns": null,
      "grid_template_rows": null,
      "height": null,
      "justify_content": null,
      "justify_items": null,
      "left": null,
      "margin": null,
      "max_height": null,
      "max_width": null,
      "min_height": null,
      "min_width": null,
      "object_fit": null,
      "object_position": null,
      "order": null,
      "overflow": null,
      "overflow_x": null,
      "overflow_y": null,
      "padding": null,
      "right": null,
      "top": null,
      "visibility": null,
      "width": null
     }
    },
    "99531b296ccf4898a681985c269fd2b1": {
     "model_module": "@jupyter-widgets/controls",
     "model_module_version": "1.5.0",
     "model_name": "HTMLModel",
     "state": {
      "_dom_classes": [],
      "_model_module": "@jupyter-widgets/controls",
      "_model_module_version": "1.5.0",
      "_model_name": "HTMLModel",
      "_view_count": null,
      "_view_module": "@jupyter-widgets/controls",
      "_view_module_version": "1.5.0",
      "_view_name": "HTMLView",
      "description": "",
      "description_tooltip": null,
      "layout": "IPY_MODEL_01cafcca0a3947b19486908da507579e",
      "placeholder": "​",
      "style": "IPY_MODEL_d7e78ece0c76423ca38b0e8d4e852d2a",
      "value": "generation_config.json: 100%"
     }
    },
    "9b44e8bc95cb40729aca70aa26352b26": {
     "model_module": "@jupyter-widgets/base",
     "model_module_version": "1.2.0",
     "model_name": "LayoutModel",
     "state": {
      "_model_module": "@jupyter-widgets/base",
      "_model_module_version": "1.2.0",
      "_model_name": "LayoutModel",
      "_view_count": null,
      "_view_module": "@jupyter-widgets/base",
      "_view_module_version": "1.2.0",
      "_view_name": "LayoutView",
      "align_content": null,
      "align_items": null,
      "align_self": null,
      "border": null,
      "bottom": null,
      "display": null,
      "flex": null,
      "flex_flow": null,
      "grid_area": null,
      "grid_auto_columns": null,
      "grid_auto_flow": null,
      "grid_auto_rows": null,
      "grid_column": null,
      "grid_gap": null,
      "grid_row": null,
      "grid_template_areas": null,
      "grid_template_columns": null,
      "grid_template_rows": null,
      "height": null,
      "justify_content": null,
      "justify_items": null,
      "left": null,
      "margin": null,
      "max_height": null,
      "max_width": null,
      "min_height": null,
      "min_width": null,
      "object_fit": null,
      "object_position": null,
      "order": null,
      "overflow": null,
      "overflow_x": null,
      "overflow_y": null,
      "padding": null,
      "right": null,
      "top": null,
      "visibility": null,
      "width": null
     }
    },
    "9d1330433583443d8f79d7e0a1427a46": {
     "model_module": "@jupyter-widgets/base",
     "model_module_version": "1.2.0",
     "model_name": "LayoutModel",
     "state": {
      "_model_module": "@jupyter-widgets/base",
      "_model_module_version": "1.2.0",
      "_model_name": "LayoutModel",
      "_view_count": null,
      "_view_module": "@jupyter-widgets/base",
      "_view_module_version": "1.2.0",
      "_view_name": "LayoutView",
      "align_content": null,
      "align_items": null,
      "align_self": null,
      "border": null,
      "bottom": null,
      "display": null,
      "flex": null,
      "flex_flow": null,
      "grid_area": null,
      "grid_auto_columns": null,
      "grid_auto_flow": null,
      "grid_auto_rows": null,
      "grid_column": null,
      "grid_gap": null,
      "grid_row": null,
      "grid_template_areas": null,
      "grid_template_columns": null,
      "grid_template_rows": null,
      "height": null,
      "justify_content": null,
      "justify_items": null,
      "left": null,
      "margin": null,
      "max_height": null,
      "max_width": null,
      "min_height": null,
      "min_width": null,
      "object_fit": null,
      "object_position": null,
      "order": null,
      "overflow": null,
      "overflow_x": null,
      "overflow_y": null,
      "padding": null,
      "right": null,
      "top": null,
      "visibility": null,
      "width": null
     }
    },
    "9e96f6eeb168401d84a0e5001429e208": {
     "model_module": "@jupyter-widgets/base",
     "model_module_version": "1.2.0",
     "model_name": "LayoutModel",
     "state": {
      "_model_module": "@jupyter-widgets/base",
      "_model_module_version": "1.2.0",
      "_model_name": "LayoutModel",
      "_view_count": null,
      "_view_module": "@jupyter-widgets/base",
      "_view_module_version": "1.2.0",
      "_view_name": "LayoutView",
      "align_content": null,
      "align_items": null,
      "align_self": null,
      "border": null,
      "bottom": null,
      "display": null,
      "flex": null,
      "flex_flow": null,
      "grid_area": null,
      "grid_auto_columns": null,
      "grid_auto_flow": null,
      "grid_auto_rows": null,
      "grid_column": null,
      "grid_gap": null,
      "grid_row": null,
      "grid_template_areas": null,
      "grid_template_columns": null,
      "grid_template_rows": null,
      "height": null,
      "justify_content": null,
      "justify_items": null,
      "left": null,
      "margin": null,
      "max_height": null,
      "max_width": null,
      "min_height": null,
      "min_width": null,
      "object_fit": null,
      "object_position": null,
      "order": null,
      "overflow": null,
      "overflow_x": null,
      "overflow_y": null,
      "padding": null,
      "right": null,
      "top": null,
      "visibility": null,
      "width": null
     }
    },
    "a25030d81cbb4069a60e072d36427efb": {
     "model_module": "@jupyter-widgets/controls",
     "model_module_version": "1.5.0",
     "model_name": "HBoxModel",
     "state": {
      "_dom_classes": [],
      "_model_module": "@jupyter-widgets/controls",
      "_model_module_version": "1.5.0",
      "_model_name": "HBoxModel",
      "_view_count": null,
      "_view_module": "@jupyter-widgets/controls",
      "_view_module_version": "1.5.0",
      "_view_name": "HBoxView",
      "box_style": "",
      "children": [
       "IPY_MODEL_4aae6129ecc54d5f834c897d850ae1a5",
       "IPY_MODEL_6e7179fd03fd45ac8556f9ebbd218d1f",
       "IPY_MODEL_d992c4c959634c90895b1ecddd36da44"
      ],
      "layout": "IPY_MODEL_9e96f6eeb168401d84a0e5001429e208"
     }
    },
    "a697dfb0a9e547b6b41aaec30bea6e5f": {
     "model_module": "@jupyter-widgets/controls",
     "model_module_version": "1.5.0",
     "model_name": "ProgressStyleModel",
     "state": {
      "_model_module": "@jupyter-widgets/controls",
      "_model_module_version": "1.5.0",
      "_model_name": "ProgressStyleModel",
      "_view_count": null,
      "_view_module": "@jupyter-widgets/base",
      "_view_module_version": "1.2.0",
      "_view_name": "StyleView",
      "bar_color": null,
      "description_width": ""
     }
    },
    "af08a6a3d0454f15b730cdda9c61174f": {
     "model_module": "@jupyter-widgets/controls",
     "model_module_version": "1.5.0",
     "model_name": "ProgressStyleModel",
     "state": {
      "_model_module": "@jupyter-widgets/controls",
      "_model_module_version": "1.5.0",
      "_model_name": "ProgressStyleModel",
      "_view_count": null,
      "_view_module": "@jupyter-widgets/base",
      "_view_module_version": "1.2.0",
      "_view_name": "StyleView",
      "bar_color": null,
      "description_width": ""
     }
    },
    "bc8a09a98c7a455db2a3caa067af93be": {
     "model_module": "@jupyter-widgets/controls",
     "model_module_version": "1.5.0",
     "model_name": "DescriptionStyleModel",
     "state": {
      "_model_module": "@jupyter-widgets/controls",
      "_model_module_version": "1.5.0",
      "_model_name": "DescriptionStyleModel",
      "_view_count": null,
      "_view_module": "@jupyter-widgets/base",
      "_view_module_version": "1.2.0",
      "_view_name": "StyleView",
      "description_width": ""
     }
    },
    "ca9e878ad1b74122adcf275ffb7dbb40": {
     "model_module": "@jupyter-widgets/base",
     "model_module_version": "1.2.0",
     "model_name": "LayoutModel",
     "state": {
      "_model_module": "@jupyter-widgets/base",
      "_model_module_version": "1.2.0",
      "_model_name": "LayoutModel",
      "_view_count": null,
      "_view_module": "@jupyter-widgets/base",
      "_view_module_version": "1.2.0",
      "_view_name": "LayoutView",
      "align_content": null,
      "align_items": null,
      "align_self": null,
      "border": null,
      "bottom": null,
      "display": null,
      "flex": null,
      "flex_flow": null,
      "grid_area": null,
      "grid_auto_columns": null,
      "grid_auto_flow": null,
      "grid_auto_rows": null,
      "grid_column": null,
      "grid_gap": null,
      "grid_row": null,
      "grid_template_areas": null,
      "grid_template_columns": null,
      "grid_template_rows": null,
      "height": null,
      "justify_content": null,
      "justify_items": null,
      "left": null,
      "margin": null,
      "max_height": null,
      "max_width": null,
      "min_height": null,
      "min_width": null,
      "object_fit": null,
      "object_position": null,
      "order": null,
      "overflow": null,
      "overflow_x": null,
      "overflow_y": null,
      "padding": null,
      "right": null,
      "top": null,
      "visibility": null,
      "width": null
     }
    },
    "d002c6b996e94d31acb7f31601afcb0e": {
     "model_module": "@jupyter-widgets/controls",
     "model_module_version": "1.5.0",
     "model_name": "DescriptionStyleModel",
     "state": {
      "_model_module": "@jupyter-widgets/controls",
      "_model_module_version": "1.5.0",
      "_model_name": "DescriptionStyleModel",
      "_view_count": null,
      "_view_module": "@jupyter-widgets/base",
      "_view_module_version": "1.2.0",
      "_view_name": "StyleView",
      "description_width": ""
     }
    },
    "d7e78ece0c76423ca38b0e8d4e852d2a": {
     "model_module": "@jupyter-widgets/controls",
     "model_module_version": "1.5.0",
     "model_name": "DescriptionStyleModel",
     "state": {
      "_model_module": "@jupyter-widgets/controls",
      "_model_module_version": "1.5.0",
      "_model_name": "DescriptionStyleModel",
      "_view_count": null,
      "_view_module": "@jupyter-widgets/base",
      "_view_module_version": "1.2.0",
      "_view_name": "StyleView",
      "description_width": ""
     }
    },
    "d94f6589ef0e497196dea33069a42a04": {
     "model_module": "@jupyter-widgets/controls",
     "model_module_version": "1.5.0",
     "model_name": "HTMLModel",
     "state": {
      "_dom_classes": [],
      "_model_module": "@jupyter-widgets/controls",
      "_model_module_version": "1.5.0",
      "_model_name": "HTMLModel",
      "_view_count": null,
      "_view_module": "@jupyter-widgets/controls",
      "_view_module_version": "1.5.0",
      "_view_name": "HTMLView",
      "description": "",
      "description_tooltip": null,
      "layout": "IPY_MODEL_ca9e878ad1b74122adcf275ffb7dbb40",
      "placeholder": "​",
      "style": "IPY_MODEL_27beef5574924876abc863290b6fa70f",
      "value": " 54.6M/54.6M [00:00&lt;00:00, 174MB/s]"
     }
    },
    "d992c4c959634c90895b1ecddd36da44": {
     "model_module": "@jupyter-widgets/controls",
     "model_module_version": "1.5.0",
     "model_name": "HTMLModel",
     "state": {
      "_dom_classes": [],
      "_model_module": "@jupyter-widgets/controls",
      "_model_module_version": "1.5.0",
      "_model_name": "HTMLModel",
      "_view_count": null,
      "_view_module": "@jupyter-widgets/controls",
      "_view_module_version": "1.5.0",
      "_view_name": "HTMLView",
      "description": "",
      "description_tooltip": null,
      "layout": "IPY_MODEL_87f857e5e16445f399f7c37463bdf33a",
      "placeholder": "​",
      "style": "IPY_MODEL_bc8a09a98c7a455db2a3caa067af93be",
      "value": " 2/2 [01:12&lt;00:00, 33.93s/it]"
     }
    },
    "dd391bb72ba243309db912846f196bec": {
     "model_module": "@jupyter-widgets/controls",
     "model_module_version": "1.5.0",
     "model_name": "FloatProgressModel",
     "state": {
      "_dom_classes": [],
      "_model_module": "@jupyter-widgets/controls",
      "_model_module_version": "1.5.0",
      "_model_name": "FloatProgressModel",
      "_view_count": null,
      "_view_module": "@jupyter-widgets/controls",
      "_view_module_version": "1.5.0",
      "_view_name": "ProgressView",
      "bar_style": "success",
      "description": "",
      "description_tooltip": null,
      "layout": "IPY_MODEL_25c0bc73a3144d51bc8dc155437a03b9",
      "max": 54560368,
      "min": 0,
      "orientation": "horizontal",
      "style": "IPY_MODEL_af08a6a3d0454f15b730cdda9c61174f",
      "value": 54560368
     }
    },
    "e0b76bba91ad42be9d36dac76fb1494a": {
     "model_module": "@jupyter-widgets/controls",
     "model_module_version": "1.5.0",
     "model_name": "FloatProgressModel",
     "state": {
      "_dom_classes": [],
      "_model_module": "@jupyter-widgets/controls",
      "_model_module_version": "1.5.0",
      "_model_name": "FloatProgressModel",
      "_view_count": null,
      "_view_module": "@jupyter-widgets/controls",
      "_view_module_version": "1.5.0",
      "_view_name": "ProgressView",
      "bar_style": "success",
      "description": "",
      "description_tooltip": null,
      "layout": "IPY_MODEL_ed9175875b7d47aaaa48843506f40d30",
      "max": 120,
      "min": 0,
      "orientation": "horizontal",
      "style": "IPY_MODEL_7248766bb694476398d8db2ffe4dcda4",
      "value": 120
     }
    },
    "ed9175875b7d47aaaa48843506f40d30": {
     "model_module": "@jupyter-widgets/base",
     "model_module_version": "1.2.0",
     "model_name": "LayoutModel",
     "state": {
      "_model_module": "@jupyter-widgets/base",
      "_model_module_version": "1.2.0",
      "_model_name": "LayoutModel",
      "_view_count": null,
      "_view_module": "@jupyter-widgets/base",
      "_view_module_version": "1.2.0",
      "_view_name": "LayoutView",
      "align_content": null,
      "align_items": null,
      "align_self": null,
      "border": null,
      "bottom": null,
      "display": null,
      "flex": null,
      "flex_flow": null,
      "grid_area": null,
      "grid_auto_columns": null,
      "grid_auto_flow": null,
      "grid_auto_rows": null,
      "grid_column": null,
      "grid_gap": null,
      "grid_row": null,
      "grid_template_areas": null,
      "grid_template_columns": null,
      "grid_template_rows": null,
      "height": null,
      "justify_content": null,
      "justify_items": null,
      "left": null,
      "margin": null,
      "max_height": null,
      "max_width": null,
      "min_height": null,
      "min_width": null,
      "object_fit": null,
      "object_position": null,
      "order": null,
      "overflow": null,
      "overflow_x": null,
      "overflow_y": null,
      "padding": null,
      "right": null,
      "top": null,
      "visibility": null,
      "width": null
     }
    }
   }
  }
 },
 "nbformat": 4,
 "nbformat_minor": 4
}
